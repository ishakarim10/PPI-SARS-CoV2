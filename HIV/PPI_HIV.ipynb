{
 "cells": [
  {
   "cell_type": "code",
   "execution_count": 1,
   "metadata": {},
   "outputs": [
    {
     "name": "stdout",
     "output_type": "stream",
     "text": [
      "Requirement already satisfied: Biopython in /opt/anaconda3/lib/python3.7/site-packages (1.77)\r\n",
      "Requirement already satisfied: numpy in /opt/anaconda3/lib/python3.7/site-packages (from Biopython) (1.18.1)\r\n"
     ]
    }
   ],
   "source": [
    "import pandas as pd \n",
    "!pip install Biopython\n",
    "from Bio import SeqIO\n",
    "from Bio import pairwise2\n",
    "from Bio.pairwise2 import format_alignment\n",
    "import matplotlib.pyplot as plt \n",
    "import random\n",
    "import numpy as np"
   ]
  },
  {
   "cell_type": "markdown",
   "metadata": {},
   "source": [
    "FUNCTIONS/RETURNED:\n",
    "\n",
    "get_hiv_bait()- gets the sequences and names of the bait and puts it into a pandas DataFrame, returns hiv_bait_df \n",
    "\n",
    "get_prey()- gets the prey sequences and ids and puts it into a pandas DataFrame, returns human_prey_df\n",
    "\n",
    "get_hiv_pos()- positive- bait name, prey name, bait sequence, prey sequence, returns hiv_ppi_pos\n",
    "\n",
    "get_hiv_neg()- random bait seq assigned to random prey seq, returns hiv_ppi_neg\n",
    "\n",
    "hiv_prey_pairwise()- calculates pairwise scores for positive and negative dataset + concats, returns train_data"
   ]
  },
  {
   "cell_type": "code",
   "execution_count": 2,
   "metadata": {},
   "outputs": [
    {
     "data": {
      "text/plain": [
       "array(['Chlamydia-HEK293T', 'Dengue-HEK293T', 'Ebola-HEK293T',\n",
       "       'Ebola-HUH7', 'EV71-HEK293T', 'HBV-HUH7', 'HCV-HEK293T',\n",
       "       'HCV-HUH7', 'HIV-HEK293T', 'HIV-Jurkat', 'HPV-C33A', 'HPV-HEK293T',\n",
       "       'HPV-Het1A', 'IAV-A549', 'IAV-HTBE', 'IAV-THP1', 'KSHV-HEK293T',\n",
       "       'Mtb-HEK293T', 'WNV-HEK293T', 'Zika-HEK293T', 'SARS-CoV2-HEK293T'],\n",
       "      dtype=object)"
      ]
     },
     "execution_count": 2,
     "metadata": {},
     "output_type": "execute_result"
    }
   ],
   "source": [
    "ppi_data = pd.read_csv('ppi_multipathogen_wCoV2.txt',sep='\\t')\n",
    "ppi_data.dataset.unique()"
   ]
  },
  {
   "cell_type": "code",
   "execution_count": 3,
   "metadata": {},
   "outputs": [],
   "source": [
    "#HIV (BAIT) SEQUENCES \n",
    "#parsing and taking out seq from fasta file\n",
    "#This function gets the sequences and names of the bait and puts it into a pandas DataFrame \n",
    "\n",
    "def get_hiv_bait():\n",
    "    hiv_bait_dic = {'Bait':[],'Sequences':[]}\n",
    "\n",
    "    for record in SeqIO.parse(\"hiv_bait_fasta1.txt\",\"fasta\"):\n",
    "        sub_id = record.id.split('|')\n",
    "        sub_id = sub_id[2].split('_')[0]\n",
    "\n",
    "        hiv_bait_dic['Bait'].append(sub_id)\n",
    "        hiv_bait_dic['Sequences'].append(str(record.seq))\n",
    "\n",
    "    #concatenate\n",
    "    hiv_bait_dic['Bait'].append(\"MA\")\n",
    "    hiv_bait_dic['Sequences'].append(\"MGARASVLSGGELDRWEKIRLRPGGKKKYKLKHIVWASRELERFAVNPGLLETSEGCRQILGQLQPSLQTGSEELRSLYNTVATLYCVHQRIEIKDTKEALDKIEEEQNKSKKKAQQAAADTGHSNQVSQNYGAAAGWSHPQFEKGGGSGGGSGGGSWSHPQFEKGENLYFQGADYKDHDGDYKDHDIDYKDDDDK\")\n",
    "\n",
    "    hiv_bait_dic['Bait'].append(\"CA\")\n",
    "    hiv_bait_dic['Sequences'].append(\"MPIVQNIQGQMVHQAISPRTLNAWVKVVEEKAFSPEVIPMFSALSEGATPQDLNTMLNTVGGHQAAMQMLKETINEEAAEWDRVHPVHAGPIAPGQMREPRGSDIAGTTSTLQEQIGWMTNNPPIPVGEIYKRWIILGLNKIVRMYSPTSILDIRQGPKEPFRDYVDRFYKTLRAEQASQEVKNWMTETLLVQNANPDCKTILKALGPAATLEEMMTACQGVGGPGHKARVLGAAAGWSHPQFEKGGGSGGGSGGGSWSHPQFEKGENLYFQGADYKDHDGDYKDHDIDYKDDDDK\")\n",
    "\n",
    "    hiv_bait_dic['Bait'].append(\"NC\")\n",
    "    hiv_bait_dic['Sequences'].append(\"MQRGNFRNQRKIVKCFNCGKEGHTARNCRAPRKKGCWKCGKEGHQMKDCTERQANGAAAGWSHPQFEKGGGSGGGSGGGSWSHPQFEKGENLYFQGADYKDHDGDYKDHDIDYKDDDDK\")\n",
    "\n",
    "    hiv_bait_dic['Bait'].append(\"P6\")\n",
    "    hiv_bait_dic['Sequences'].append(\"MLQSRPEPTAPPEESFRSGVETTTPPQKQEPIDKELYPLTSLRSLFGNDPSSQGAAAGWSHPQFEKGGGSGGGSGGGSWSHPQFEKGENLYFQGADYKDHDGDYKDHDIDYKDDDDK\")\n",
    "\n",
    "    hiv_bait_dic[\"Bait\"].append(\"PR\")\n",
    "    hiv_bait_dic[\"Sequences\"].append(\"MPQITLWQRPLVTIKIGGQLKEALLNTGADDTVLEEMNLPGRWKPKMIGGIGGFIKVRQYDQILIEICGHKAIGTVLVGPTPVNIIGRNLLTQIGCTLNFGAAAGWSHPQFEKGGGSGGGSGGGSWSHPQFEKGENLYFQGADYKDHDGDYKDHDIDYKDDDDK\")\n",
    "\n",
    "    hiv_bait_dic[\"Bait\"].append(\"RT\")\n",
    "    hiv_bait_dic[\"Sequences\"].append(\"MPISPIETVPVKLKPGMDGPKVKQWPLTEEKIKALVEICTEMEKEGKISKIGPENPYNTPVFAIKKKDSTKWRKLVDFRELNKRTQDFWEVQLGIPHPAGLKQKKSVTVLDVGDAYFSVPLDKDFRKYTAFTIPSINNETPGIRYQYNVLPQGWKGSPAIFQCSMTKILEPFRKQNPDIVIYQYMDDLYVGSDLEIGQHRTKIEELRQHLLRWGFTTPDKKHQKEPPFLWMGYELHPDKWTVQPIVLPEKDSWTVNDIQKLVGKLNWASQIYAGIKVRQLCKLLRGTKALTEVVPLTEEAELELAENREILKEPVHGVYYDPSKDLIAEIQKQGQGQWTYQIYQEPFKNLKTGKYARMKGAHTNDVKQLTEAVQKIATESIVIWGKTPKFKLPIQKETWEAWWTEYWQATWIPEWEFVNTPPLVKLWYQLEKEPIIGAETFYVDGAANRETKLGKAGYVTDRGRQKVVPLTDTTNQKTELQAIHLALQDSGLEVNIVTDSQYALGIIQAQPDKSESELVSQIIEQLIKKEKVYLAWVPAHKGIGGNEQVDGLVSAGIRKVLGAAAGWSHPQFEKGGGSGGGSGGGSWSHPQFEKGENLYFQGADYKDHDGDYKDHDIDYKDDDDK\")\n",
    "\n",
    "    hiv_bait_dic[\"Bait\"].append(\"IN\")\n",
    "    hiv_bait_dic[\"Sequences\"].append(\"MAFLDGIDKAQEEHEKYHSNWRAMASDFNLPPVVAKEIVASCDKCQLKGEAMHGQVDCSPGIWQLDCTHLEGKVILVAVHVASGYIEAEVIPAETGQETAYFLLKLAGRWPVKTVHTDNGSNFTSTTVKAACWWAGIKQEFGIPYNPQSQGVIESMNKELKKIIGQVRDQAEHLKTAVQMAVFIHNFKRKGGIGGYSAGERIVDIIATDIQTKELQKQITKIQNFRVYYRDSRDPVWKGPAKLLWKGEGAVVIQDNSDIKVVPRRKAKIIRDYGKQMAGDDCVASRQDEDGAAAGWSHPQFEKGGGSGGGSGGGSWSHPQFEKGENLYFQGADYKDHDGDYKDHDIDYKDDDDK\")\n",
    "\n",
    "    hiv_bait_dic[\"Bait\"].append(\"GP160\")\n",
    "    hiv_bait_dic[\"Sequences\"].append(\"MRVKEKYQHLWRWGWRWGTMLLGMLMICSATEKLWVTVYYGVPVWKEATTTLLCASDAKAYDTEVHNVWATHACVPTDPNPQEVVLVNVTENFDMWKNDMVEQMHEDIISLWDQSLKPCVKLTPLCVSLKCTDLKNDTNTNSSSGRMIMEKGEIKNCSFNISTSIRGKVQKEYAFFYKLDIIPIDNDTTSYSLTSCNTSVITQACPKVSFEPIPNHYCAPAGFTILKCNNKTFNGTGPCTNVSTVQCTHGIRPVVSTQLLLNGSLAEEEVVIRSVNFTDNAKTIIVQLNTSVEINCTRPNNNTRKRIRIQRGPGRAFVTIGKIGNMRQAHCNISRAKWNNTLKQIDSKLREQFGNNKTIIFKQSSGGDPEIVTHSFNCGGEFFYCNSTQLFNSTWFNSTWSTEGSNNTEGSDTITLPCRIKQIINMWQKVGKAMYAPPISGQIRCSSNITGLLLTRDGGNSNNESEIFRLGGGDMRDNWRSELYKYKVVKIEPLGVAPTKAKRRVVQREKRAVGIGALFLGFLGAAGSTMGAASMTLTVQARQLLSGIVQQQNNLLRAIEAQQHLLQLTVWGIKQLQARTLAVERYLKDQQLLGIWGCSGKLICTTAVPWNASWSNKSLEQIWNHTTWMEWDREINNYTSLIHSLIEESQNQQEKNEQELLELDKWASLWNWFNITNWLWYIKLFIMIVGGLVGLRIVFAVLSIVNRVRQGYSPLSFQTHLPTPRGPDRPEGIEEEGGERDRDRSIRLVNGSLALIWDDLRSLCLFSYHRLRDLLLIVTRIVELLGRRGWEALKYWWNLLQYWSQELKNSAVSLLNATAIAVAEGTDRVIEVVQGACRAIRHIPRRIRQGLERILLGLEGGGGWSHPQFEKGGGSGGGSGGGSWSHPQFEKGENLYFQGADYKDHDGDYKDHDIDYKDDDDK\")\n",
    "\n",
    "    hiv_bait_dic[\"Bait\"].append(\"GP120\")\n",
    "    hiv_bait_dic[\"Sequences\"].append(\"MRVKEKYQHLWRWGWRWGTMLLGMLMICSATEKLWVTVYYGVPVWKEATTTLLCASDAKAYDTEVHNVWATHACVPTDPNPQEVVLVNVTENFDMWKNDMVEQMHEDIISLWDQSLKPCVKLTPLCVSLKCTDLKNDTNTNSSSGRMIMEKGEIKNCSFNISTSIRGKVQKEYAFFYKLDIIPIDNDTTSYSLTSCNTSVITQACPKVSFEPIPNHYCAPAGFTILKCNNKTFNGTGPCTNVSTVQCTHGIRPVVSTQLLLNGSLAEEEVVIRSVNFTDNAKTIIVQLNTSVEINCTRPNNNTRKRIRIQRGPGRAFVTIGKIGNMRQAHCNISRAKWNNTLKQIDSKLREQFGNNKTIIFKQSSGGDPEIVTHSFNCGGEFFYCNSTQLFNSTWFNSTWSTEGSNNTEGSDTITLPCRIKQIINMWQKVGKAMYAPPISGQIRCSSNITGLLLTRDGGNSNNESEIFRLGGGDMRDNWRSELYKYKVVKIEPLGVAPTKAKRRVVQREKRAVGIGALFLGFLGAAGSTMGAASMTGLEGGGGWSHPQFEKGGGSGGGSGGGSWSHPQFEKGENLYFQGADYKDHDGDYKDHDIDYKDDDDK\")\n",
    "\n",
    "    hiv_bait_dic[\"Bait\"].append(\"GP41\")\n",
    "    hiv_bait_dic[\"Sequences\"].append(\"MTMKTIIALSYIFCLVFAMLTVQARQLLSGIVQQQNNLLRAIEAQQHLLQLTVWGIKQLQARILAVERYLKDQQLLGIWGCSGKLICTTAVPWNASWSNKSLEQIWNHTTWMEWDREINNYTSLIHSLIEESQNQQEKNEQELLELDKWASLWNWFNITNWLWYIKLFIMIVGGLVGLRIVFAVLSIVNRVRQGYSPLSFQTHLPTPRGPDRPEGIEEEGGERDRDRSIRLVNGSLALIWDDLRSLCLFSYHRLRDLLLIVTRIVELLGRRGWEALKYWWNLLQYWSQELKNSAVSLLNATAIAVAEGTDRVIEVVQGACRAIRHIPRRIRQGLERILLGLEGGGGWSHPQFEKGGGSGGGSGGGSWSHPQFEKGENLYFQGADYKDHDGDYKDHDIDYKDDDDK\")\n",
    "\n",
    "    hiv_bait_df = pd.DataFrame(data=hiv_bait_dic)\n",
    "\n",
    "    return hiv_bait_df\n",
    "\n",
    "hiv_bait_df=get_hiv_bait()"
   ]
  },
  {
   "cell_type": "code",
   "execution_count": 4,
   "metadata": {},
   "outputs": [],
   "source": [
    "#HUMAN PROTEOME (PREY) SEQUENCES \n",
    "#This function gets the prey sequences and ids and puts it into a pandas DataFrame \n",
    "\n",
    "def get_prey():\n",
    "    human_prey_dic={'Prey':[],'Prey_Sequence':[]}\n",
    "    for record in SeqIO.parse(\"human_proteomes.fasta\",\"fasta\"):\n",
    "        sub_id = record.id.split('|')\n",
    "        sub_id = sub_id[1]\n",
    "\n",
    "        human_prey_dic['Prey'].append(sub_id)\n",
    "        human_prey_dic['Prey_Sequence'].append(str(record.seq))\n",
    "\n",
    "    human_prey_df = pd.DataFrame(data=human_prey_dic)\n",
    "\n",
    "    return human_prey_df\n",
    "\n",
    "human_prey_df=get_prey()"
   ]
  },
  {
   "cell_type": "code",
   "execution_count": 5,
   "metadata": {},
   "outputs": [],
   "source": [
    "#POSITIVE SAMPLE DATAFRAME\n",
    "#DATAFRAME WENT FROM 114 --> 93 AFTER DROPPING NAN VALUES \n",
    "#build positive and negative dataset \n",
    "#positive- bait name, prey name, bait sequence, prey sequence \n",
    "\n",
    "def get_hiv_pos():\n",
    "    \n",
    "    #Bait and Prey names: only for HEK293T and have Mist score higher than .75\n",
    "    hiv_ppi_pos = ppi_data[(ppi_data.dataset=='HIV-HEK293T') & (ppi_data['MIST'] >= 0.75)][[\"Bait\",\"Prey\"]]\n",
    "\n",
    "    #bait sequence \n",
    "    hiv_ppi_pos['Bait_Sequence']=hiv_ppi_pos['Bait'].map(hiv_bait_df.set_index('Bait')['Sequences'])\n",
    "\n",
    "    #prey sequence- check if sequence from all human protiens exists in bait_prey_names\n",
    "    hiv_ppi_pos['Prey_Sequence']=hiv_ppi_pos['Prey'].map(human_prey_df.set_index('Prey')['Prey_Sequence'])\n",
    "\n",
    "    #replacing bait sequence nan values \n",
    "    bait_seq_nan = hiv_ppi_pos[hiv_ppi_pos[\"Bait_Sequence\"].isnull()].index.tolist()\n",
    "    for i in range(len(bait_seq_nan)):\n",
    "        index = hiv_ppi_pos.loc[bait_seq_nan[i],'Bait']\n",
    "        hiv_ppi_pos['Bait_Sequence']=hiv_ppi_pos['Bait'].map(hiv_bait_df.set_index(index)['Sequences'])\n",
    "\n",
    "    #removing prey sequence nan values \n",
    "    hiv_ppi_pos=hiv_ppi_pos[hiv_ppi_pos[\"Prey_Sequence\"].notna()]\n",
    "    hiv_ppi_pos['y_true'] = '1'\n",
    "    hiv_ppi_pos=hiv_ppi_pos.reset_index(drop=True)\n",
    "\n",
    "    return hiv_ppi_pos\n",
    "\n",
    "hiv_ppi_pos=get_hiv_pos()"
   ]
  },
  {
   "cell_type": "code",
   "execution_count": 6,
   "metadata": {
    "scrolled": false
   },
   "outputs": [],
   "source": [
    "#NEGATIVE DATAFRAME - random bait seq assigned to random prey seq\n",
    "\n",
    "def get_hiv_neg():\n",
    "    \n",
    "    #get random batch of prey sequences from get_prey() function\n",
    "    #hiv_ppi_neg = get_prey().sample(n=140) \n",
    "    hiv_ppi_neg = get_prey().head(140)\n",
    "    \n",
    "    #make bait sequences into a list\n",
    "    bait_name_list = get_hiv_bait()[\"Bait\"].tolist()\n",
    "    bait_seq_list = get_hiv_bait()[\"Sequences\"].tolist()\n",
    "    \n",
    "    #create new column in hiv_ppi_neg\n",
    "    hiv_ppi_neg[\"Bait\"] = \"\"\n",
    "    hiv_ppi_neg[\"Bait_Sequence\"] = \"\"\n",
    "    \n",
    "    #iterate through rows and assign random bait sequence \n",
    "    for index, row in hiv_ppi_neg.iterrows():\n",
    "        hiv_ppi_neg.loc[index, \"Bait\"] = random.choice(bait_name_list)\n",
    "        hiv_ppi_neg['Bait_Sequence']=hiv_ppi_neg['Bait'].map(get_hiv_bait().set_index(\"Bait\")['Sequences'])\n",
    "        #hiv_ppi_neg.loc[index, \"Bait_Sequence\"] = random.choice(bait_seq_list)\n",
    "    \n",
    "    hiv_ppi_neg['y_true'] = '0'\n",
    "    hiv_ppi_neg=hiv_ppi_neg.reset_index(drop=True)\n",
    "    \n",
    "    return hiv_ppi_neg\n",
    "\n",
    "hiv_ppi_neg=get_hiv_neg()"
   ]
  },
  {
   "cell_type": "markdown",
   "metadata": {},
   "source": [
    "SEQUENCE ALIGNMENT TRIALS- SKCIT BIO, SKBIO"
   ]
  },
  {
   "cell_type": "code",
   "execution_count": 7,
   "metadata": {
    "scrolled": true
   },
   "outputs": [],
   "source": [
    "#STRIPED SMITH WATERMAN FOR ALIGNMENT\n",
    "#not using \n",
    "hiv_bait_df=get_hiv_bait()\n",
    "human_prey_df=get_prey()\n",
    "hiv_ppi_pos=get_hiv_pos()\n",
    "hiv_ppi_neg=get_hiv_neg()\n",
    "\n",
    "from skbio.alignment import StripedSmithWaterman\n",
    "\n",
    "#StripedSmithWaterman for positive dataset \n",
    "pos_scores = []\n",
    "\n",
    "for index in range(len(hiv_ppi_pos.index)):\n",
    "    query = StripedSmithWaterman(hiv_ppi_pos[\"Bait_Sequence\"][hiv_ppi_pos.index[index]])\n",
    "    alignment = query(hiv_ppi_pos[\"Prey_Sequence\"][hiv_ppi_pos.index[index]])\n",
    "    pos_scores.append(alignment['optimal_alignment_score'])\n",
    "\n",
    "#StripedSmithWaterman for positive dataset \n",
    "neg_scores = []\n",
    "for index in range(len(hiv_ppi_neg.index)):\n",
    "    query = StripedSmithWaterman(hiv_ppi_neg[\"Bait_Sequence\"][hiv_ppi_neg.index[index]])\n",
    "    alignment = query(hiv_ppi_neg[\"Prey_Sequence\"][hiv_ppi_neg.index[index]])\n",
    "    neg_scores.append(alignment['optimal_alignment_score'])"
   ]
  },
  {
   "cell_type": "markdown",
   "metadata": {},
   "source": [
    "final seq alignment method? GLOBAL"
   ]
  },
  {
   "cell_type": "code",
   "execution_count": 8,
   "metadata": {},
   "outputs": [],
   "source": [
    "def hiv_prey_pairwise():\n",
    "    hiv_ppi_pos = get_hiv_pos()\n",
    "    hiv_ppi_neg = get_hiv_neg()\n",
    "    hiv_ppi_pos[\"Score\"] = ''\n",
    "    hiv_ppi_neg[\"Score\"] = ''\n",
    "    pos_scores = []\n",
    "    neg_scores = []\n",
    "\n",
    "    for index in range(len(hiv_ppi_pos.index)):\n",
    "        alignments = pairwise2.align.globalxx(str(hiv_ppi_pos[\"Bait_Sequence\"][hiv_ppi_pos.index[index]]), str(hiv_ppi_pos[\"Prey_Sequence\"][hiv_ppi_pos.index[index]]))\n",
    "        pos_scores.append(alignments[0][2])\n",
    "        hiv_ppi_pos.loc[index,\"Score\"] = alignments[0][2]\n",
    "        \n",
    "\n",
    "    for index in range(len(hiv_ppi_neg)):\n",
    "        alignments = pairwise2.align.globalxx(str(hiv_ppi_neg[\"Bait_Sequence\"][hiv_ppi_neg.index[index]]), str(hiv_ppi_neg[\"Prey_Sequence\"][hiv_ppi_neg.index[index]]))\n",
    "        neg_scores.append(alignments[0][2])\n",
    "        hiv_ppi_neg.loc[index,\"Score\"] = alignments[0][2]\n",
    "    \n",
    "    \n",
    "    train_data=pd.concat([hiv_ppi_pos,hiv_ppi_neg],axis=0)\n",
    "    train_data.reset_index(drop=True,inplace=True)\n",
    "    \n",
    "    return train_data\n",
    "\n",
    "train_data = hiv_prey_pairwise()\n"
   ]
  },
  {
   "cell_type": "code",
   "execution_count": 9,
   "metadata": {},
   "outputs": [],
   "source": [
    "#adding prediction variables to train_data \n",
    "\n",
    "#bait length \n",
    "train_data[\"Bait_Length\"] = \"\"\n",
    "for index in range(len(train_data.index)):\n",
    "    train_data.loc[index,\"Bait_Length\"] = len(train_data.loc[index,\"Bait_Sequence\"])\n",
    "\n",
    "#molecular weight\n",
    "weight_df = hiv_bait_df\n",
    "weight_df[\"Weight\"]=[162041.90,11561.13,22512.91,11370.85,13004.60,23306.28,\n",
    "            54888.92,5166.54,21784.97,32585.69,13300.50,12790.61,\n",
    "            17825.10,71293.30,39276.11,104292.89,67018.88,46558.14]\n",
    "train_data[\"Weight\"]=\"\"\n",
    "train_data[\"Weight\"]=train_data[\"Bait\"].map(weight_df.set_index(\"Bait\")[\"Weight\"])\n",
    "\n",
    "#amino acid categories \n",
    "def amino_acid_classify(seq):\n",
    "    charged = 0\n",
    "    polar = 0\n",
    "    amphiatic = 0\n",
    "    hydrophobic = 0\n",
    "    \n",
    "    for i in seq:\n",
    "        if i in ['R','K','D','E']:\n",
    "            charged +=1\n",
    "        elif i in ['Q','N','H','S','T','Y','C']:\n",
    "            polar +=1\n",
    "        elif i in ['W','Y','M']:\n",
    "            amphiatic +=1\n",
    "        elif i in ['A','I','L','M','F','V','P','G']:\n",
    "            hydrophobic +=1\n",
    "    return [charged, polar, amphiatic, hydrophobic]\n",
    "\n",
    "train_data[\"Bait_Charged\"]= \"\"\n",
    "train_data[\"Bait_Polar\"]= \"\"\n",
    "train_data[\"Bait_Amph\"]= \"\"\n",
    "train_data[\"Bait_Hydro\"]= \"\"\n",
    "\n",
    "train_data[\"Prey_Charged\"]= \"\"\n",
    "train_data[\"Prey_Polar\"]= \"\"\n",
    "train_data[\"Prey_Amph\"]= \"\"\n",
    "train_data[\"Prey_Hydro\"]= \"\"\n",
    "\n",
    "\n",
    "for index in range(len(train_data.index)):\n",
    "    bait_amino_values = amino_acid_classify(train_data.loc[index,\"Bait_Sequence\"])\n",
    "    train_data.loc[index,\"Bait_Charged\"] = bait_amino_values[0]\n",
    "    train_data.loc[index,\"Bait_Polar\"] = bait_amino_values[1]\n",
    "    train_data.loc[index,\"Bait_Amph\"] = bait_amino_values[2]\n",
    "    train_data.loc[index,\"Bait_Hydro\"] = bait_amino_values[3]\n",
    "    \n",
    "    prey_amino_values = amino_acid_classify(train_data.loc[index,\"Prey_Sequence\"])\n",
    "    train_data.loc[index,\"Prey_Charged\"]= prey_amino_values[0]\n",
    "    train_data.loc[index,\"Prey_Polar\"]= prey_amino_values[1]\n",
    "    train_data.loc[index,\"Prey_Amph\"]= prey_amino_values[2]\n",
    "    train_data.loc[index,\"Prey_Hydro\"]= prey_amino_values[3]"
   ]
  },
  {
   "cell_type": "markdown",
   "metadata": {},
   "source": [
    "questions:\n",
    "how to split into training and testing?\n",
    "where to get data for other predictive variables?"
   ]
  },
  {
   "cell_type": "code",
   "execution_count": 10,
   "metadata": {},
   "outputs": [
    {
     "data": {
      "image/png": "[encoded data removed]",
      "text/plain": [
       "<Figure size 432x288 with 1 Axes>"
      ]
     },
     "metadata": {
      "needs_background": "light"
     },
     "output_type": "display_data"
    }
   ],
   "source": [
    "plt.scatter(train_data[\"Bait_Length\"],train_data[\"Weight\"])\n",
    "plt.title(\"Bait_Length and Weight Scatter Plot\")\n",
    "plt.xlabel(\"Bait_Length\")\n",
    "plt.ylabel(\"Weight\")\n",
    "plt.show();"
   ]
  },
  {
   "cell_type": "code",
   "execution_count": 11,
   "metadata": {},
   "outputs": [
    {
     "data": {
      "image/png": "[encoded data removed]",
      "text/plain": [
       "<Figure size 432x288 with 1 Axes>"
      ]
     },
     "metadata": {
      "needs_background": "light"
     },
     "output_type": "display_data"
    }
   ],
   "source": [
    "plt.scatter(train_data[\"Bait_Length\"],train_data[\"Bait_Polar\"])\n",
    "plt.title(\"Bait_Length and Bait_Hydro Scatter Plot\")\n",
    "plt.xlabel(\"Bait_Length\")\n",
    "plt.ylabel(\"Bait_Hydro\")\n",
    "plt.show();"
   ]
  },
  {
   "cell_type": "code",
   "execution_count": 12,
   "metadata": {},
   "outputs": [],
   "source": [
    "from sklearn import svm \n",
    "from sklearn.model_selection import train_test_split\n",
    "\n",
    "#split data into X_train,X_test,y_train,y_test\n",
    "X_train, X_test, y_train, y_test = train_test_split(train_data, train_data['y_true'], stratify=train_data['y_true'], test_size=0.2)\n",
    "#initialize classifier\n",
    "classifier = svm.SVC(kernel='linear')"
   ]
  },
  {
   "cell_type": "code",
   "execution_count": 13,
   "metadata": {},
   "outputs": [
    {
     "data": {
      "text/plain": [
       "SVC(C=1.0, break_ties=False, cache_size=200, class_weight=None, coef0=0.0,\n",
       "    decision_function_shape='ovr', degree=3, gamma='scale', kernel='linear',\n",
       "    max_iter=-1, probability=False, random_state=None, shrinking=True,\n",
       "    tol=0.001, verbose=False)"
      ]
     },
     "execution_count": 13,
     "metadata": {},
     "output_type": "execute_result"
    }
   ],
   "source": [
    "classifier.fit(X_train.iloc[:,5:],y_train)"
   ]
  },
  {
   "cell_type": "code",
   "execution_count": 14,
   "metadata": {},
   "outputs": [],
   "source": [
    "prediction = classifier.predict(X_test.iloc[:,5:])"
   ]
  },
  {
   "cell_type": "code",
   "execution_count": 15,
   "metadata": {},
   "outputs": [],
   "source": [
    "accuracy = classifier.score(X_test.iloc[:, 5:], y_test)"
   ]
  },
  {
   "cell_type": "code",
   "execution_count": 16,
   "metadata": {},
   "outputs": [
    {
     "data": {
      "text/plain": [
       "0.851063829787234"
      ]
     },
     "execution_count": 16,
     "metadata": {},
     "output_type": "execute_result"
    }
   ],
   "source": [
    "accuracy"
   ]
  },
  {
   "cell_type": "code",
   "execution_count": 17,
   "metadata": {},
   "outputs": [],
   "source": [
    "from sklearn.metrics import plot_confusion_matrix"
   ]
  },
  {
   "cell_type": "code",
   "execution_count": 18,
   "metadata": {},
   "outputs": [
    {
     "data": {
      "image/png": "[encoded data removed]",
      "text/plain": [
       "<Figure size 432x288 with 2 Axes>"
      ]
     },
     "metadata": {
      "needs_background": "light"
     },
     "output_type": "display_data"
    }
   ],
   "source": [
    "matrix = plot_confusion_matrix(classifier, X_test.iloc[:,5:], y_test,\n",
    "                                 cmap=plt.cm.Blues,\n",
    "                                 normalize='true')\n",
    "plt.title('Confusion matrix for our classifier')\n",
    "plt.show(matrix)\n",
    "plt.show()"
   ]
  },
  {
   "cell_type": "code",
   "execution_count": 19,
   "metadata": {},
   "outputs": [],
   "source": [
    "#SVM ON SARS DATASET\n",
    "#classifier.fit(train_data.iloc[:,5:],train_data['y_true'])"
   ]
  },
  {
   "cell_type": "code",
   "execution_count": 20,
   "metadata": {},
   "outputs": [],
   "source": [
    "#load sars dataset for X_test\n",
    "# cov_data = open('sars_df.txt','r')\n",
    "# cov_data = cov_data.read()"
   ]
  },
  {
   "cell_type": "code",
   "execution_count": 21,
   "metadata": {},
   "outputs": [],
   "source": [
    "# prediction = classifier.predict(X_test.iloc[:,5:])"
   ]
  }
 ],
 "metadata": {
  "kernelspec": {
   "display_name": "Python 3",
   "language": "python",
   "name": "python3"
  },
  "language_info": {
   "codemirror_mode": {
    "name": "ipython",
    "version": 3
   },
   "file_extension": ".py",
   "mimetype": "text/x-python",
   "name": "python",
   "nbconvert_exporter": "python",
   "pygments_lexer": "ipython3",
   "version": "3.7.6"
  }
 },
 "nbformat": 4,
 "nbformat_minor": 4
}
