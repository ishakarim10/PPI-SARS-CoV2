{
 "cells": [
  {
   "cell_type": "markdown",
   "metadata": {},
   "source": [
    "# Predicting SARS-Cov2 Protein-Protein Interactions\n",
    "### Ami Baid\n",
    "This project uses a support vector machine to predict protein-protein interactions between the human proteome and the SARS-CoV2 virus proteins using previously known virus-human protein interaction information between human and Zika virus proteins and sequence alignment \n"
   ]
  },
  {
   "cell_type": "code",
   "execution_count": 5,
   "metadata": {
    "scrolled": true
   },
   "outputs": [
    {
     "name": "stdout",
     "output_type": "stream",
     "text": [
      "Requirement already satisfied: Biopython in /Users/amibaid/opt/anaconda3/lib/python3.8/site-packages (1.77)\n",
      "Requirement already satisfied: numpy in /Users/amibaid/opt/anaconda3/lib/python3.8/site-packages (from Biopython) (1.18.5)\n",
      "Requirement already satisfied: numpy in /Users/amibaid/opt/anaconda3/lib/python3.8/site-packages (1.18.5)\n"
     ]
    }
   ],
   "source": [
    "! pip install Biopython\n",
    "! pip install numpy\n",
    "from Bio import pairwise2\n",
    "from Bio.pairwise2 import format_alignment\n",
    "import pandas as pd\n",
    "from Bio import SeqIO\n",
    "import matplotlib.pyplot as plt\n",
    "import sklearn\n",
    "from sklearn.model_selection import train_test_split\n",
    "import seaborn as sns\n",
    "from sklearn.decomposition import PCA\n",
    "from sklearn.model_selection import train_test_split\n",
    "from sklearn import svm\n",
    "from sklearn.ensemble import RandomForestClassifier\n",
    "from sklearn.neural_network import MLPClassifier\n",
    "from sklearn.metrics import plot_confusion_matrix"
   ]
  },
  {
   "cell_type": "markdown",
   "metadata": {},
   "source": [
    "# Obtaining and organizing the data "
   ]
  },
  {
   "cell_type": "markdown",
   "metadata": {},
   "source": [
    "## Creating the interaction data frame\n",
    "A CSV file containing experimentally determined protein-protien interactions is converted to a data frame. The data is obtain from UCSF's Krogan Lab and contains protein-protein interaction information for mutiple viruses, including SArs-CoV2 and Zika. The data cotains the virus bait protein and the corresponding human prey protein that it interacted with. That data also contains the MIST score, which indicates the probability of the interaction's occurrence. All cloumns of the data were added to the data frame but only the mentioned ones were used."
   ]
  },
  {
   "cell_type": "code",
   "execution_count": 6,
   "metadata": {},
   "outputs": [
    {
     "data": {
      "text/html": [
       "<div>\n",
       "<style scoped>\n",
       "    .dataframe tbody tr th:only-of-type {\n",
       "        vertical-align: middle;\n",
       "    }\n",
       "\n",
       "    .dataframe tbody tr th {\n",
       "        vertical-align: top;\n",
       "    }\n",
       "\n",
       "    .dataframe thead th {\n",
       "        text-align: right;\n",
       "    }\n",
       "</style>\n",
       "<table border=\"1\" class=\"dataframe\">\n",
       "  <thead>\n",
       "    <tr style=\"text-align: right;\">\n",
       "      <th></th>\n",
       "      <th>dataset</th>\n",
       "      <th>pathogen</th>\n",
       "      <th>cell_line</th>\n",
       "      <th>Bait</th>\n",
       "      <th>Prey</th>\n",
       "      <th>PreyGeneName</th>\n",
       "      <th>MIST</th>\n",
       "      <th>MIST_origin</th>\n",
       "      <th>Bait-Prey</th>\n",
       "    </tr>\n",
       "  </thead>\n",
       "  <tbody>\n",
       "    <tr>\n",
       "      <th>0</th>\n",
       "      <td>Chlamydia-HEK293T</td>\n",
       "      <td>Chlamydia</td>\n",
       "      <td>HEK293T</td>\n",
       "      <td>CT005</td>\n",
       "      <td>P19784</td>\n",
       "      <td>CSNK2A2</td>\n",
       "      <td>0.950206</td>\n",
       "      <td>0.999608</td>\n",
       "      <td>CT005-P19784</td>\n",
       "    </tr>\n",
       "    <tr>\n",
       "      <th>1</th>\n",
       "      <td>Chlamydia-HEK293T</td>\n",
       "      <td>Chlamydia</td>\n",
       "      <td>HEK293T</td>\n",
       "      <td>CT005</td>\n",
       "      <td>Q13445</td>\n",
       "      <td>TMED1</td>\n",
       "      <td>0.949765</td>\n",
       "      <td>0.999571</td>\n",
       "      <td>CT005-Q13445</td>\n",
       "    </tr>\n",
       "    <tr>\n",
       "      <th>2</th>\n",
       "      <td>Chlamydia-HEK293T</td>\n",
       "      <td>Chlamydia</td>\n",
       "      <td>HEK293T</td>\n",
       "      <td>CT005</td>\n",
       "      <td>Q9Y3B3</td>\n",
       "      <td>TMED7</td>\n",
       "      <td>0.948138</td>\n",
       "      <td>0.997880</td>\n",
       "      <td>CT005-Q9Y3B3</td>\n",
       "    </tr>\n",
       "    <tr>\n",
       "      <th>3</th>\n",
       "      <td>Chlamydia-HEK293T</td>\n",
       "      <td>Chlamydia</td>\n",
       "      <td>HEK293T</td>\n",
       "      <td>CT005</td>\n",
       "      <td>Q15691</td>\n",
       "      <td>MAPRE1</td>\n",
       "      <td>0.948124</td>\n",
       "      <td>0.997817</td>\n",
       "      <td>CT005-Q15691</td>\n",
       "    </tr>\n",
       "    <tr>\n",
       "      <th>4</th>\n",
       "      <td>Chlamydia-HEK293T</td>\n",
       "      <td>Chlamydia</td>\n",
       "      <td>HEK293T</td>\n",
       "      <td>CT005</td>\n",
       "      <td>Q9ULK5</td>\n",
       "      <td>VANGL2</td>\n",
       "      <td>0.945743</td>\n",
       "      <td>0.995156</td>\n",
       "      <td>CT005-Q9ULK5</td>\n",
       "    </tr>\n",
       "    <tr>\n",
       "      <th>...</th>\n",
       "      <td>...</td>\n",
       "      <td>...</td>\n",
       "      <td>...</td>\n",
       "      <td>...</td>\n",
       "      <td>...</td>\n",
       "      <td>...</td>\n",
       "      <td>...</td>\n",
       "      <td>...</td>\n",
       "      <td>...</td>\n",
       "    </tr>\n",
       "    <tr>\n",
       "      <th>232794</th>\n",
       "      <td>SARS-CoV2-HEK293T</td>\n",
       "      <td>SARS-CoV2</td>\n",
       "      <td>HEK293T</td>\n",
       "      <td>SPIKE</td>\n",
       "      <td>Q9Y5V0</td>\n",
       "      <td>ZNF706</td>\n",
       "      <td>0.320555</td>\n",
       "      <td>0.320555</td>\n",
       "      <td>SPIKE-Q9Y5V0</td>\n",
       "    </tr>\n",
       "    <tr>\n",
       "      <th>232795</th>\n",
       "      <td>SARS-CoV2-HEK293T</td>\n",
       "      <td>SARS-CoV2</td>\n",
       "      <td>HEK293T</td>\n",
       "      <td>SPIKE</td>\n",
       "      <td>Q9Y5Y2</td>\n",
       "      <td>NUBP2</td>\n",
       "      <td>0.214821</td>\n",
       "      <td>0.214821</td>\n",
       "      <td>SPIKE-Q9Y5Y2</td>\n",
       "    </tr>\n",
       "    <tr>\n",
       "      <th>232796</th>\n",
       "      <td>SARS-CoV2-HEK293T</td>\n",
       "      <td>SARS-CoV2</td>\n",
       "      <td>HEK293T</td>\n",
       "      <td>SPIKE</td>\n",
       "      <td>Q9Y606</td>\n",
       "      <td>PUS1</td>\n",
       "      <td>0.353105</td>\n",
       "      <td>0.353105</td>\n",
       "      <td>SPIKE-Q9Y606</td>\n",
       "    </tr>\n",
       "    <tr>\n",
       "      <th>232797</th>\n",
       "      <td>SARS-CoV2-HEK293T</td>\n",
       "      <td>SARS-CoV2</td>\n",
       "      <td>HEK293T</td>\n",
       "      <td>SPIKE</td>\n",
       "      <td>Q9Y6K0</td>\n",
       "      <td>CEPT1</td>\n",
       "      <td>0.216346</td>\n",
       "      <td>0.216346</td>\n",
       "      <td>SPIKE-Q9Y6K0</td>\n",
       "    </tr>\n",
       "    <tr>\n",
       "      <th>232798</th>\n",
       "      <td>SARS-CoV2-HEK293T</td>\n",
       "      <td>SARS-CoV2</td>\n",
       "      <td>HEK293T</td>\n",
       "      <td>SPIKE</td>\n",
       "      <td>Q9Y6V7</td>\n",
       "      <td>DDX49</td>\n",
       "      <td>0.357513</td>\n",
       "      <td>0.357513</td>\n",
       "      <td>SPIKE-Q9Y6V7</td>\n",
       "    </tr>\n",
       "  </tbody>\n",
       "</table>\n",
       "<p>232799 rows × 9 columns</p>\n",
       "</div>"
      ],
      "text/plain": [
       "                  dataset   pathogen cell_line   Bait    Prey PreyGeneName  \\\n",
       "0       Chlamydia-HEK293T  Chlamydia   HEK293T  CT005  P19784      CSNK2A2   \n",
       "1       Chlamydia-HEK293T  Chlamydia   HEK293T  CT005  Q13445        TMED1   \n",
       "2       Chlamydia-HEK293T  Chlamydia   HEK293T  CT005  Q9Y3B3        TMED7   \n",
       "3       Chlamydia-HEK293T  Chlamydia   HEK293T  CT005  Q15691       MAPRE1   \n",
       "4       Chlamydia-HEK293T  Chlamydia   HEK293T  CT005  Q9ULK5       VANGL2   \n",
       "...                   ...        ...       ...    ...     ...          ...   \n",
       "232794  SARS-CoV2-HEK293T  SARS-CoV2   HEK293T  SPIKE  Q9Y5V0       ZNF706   \n",
       "232795  SARS-CoV2-HEK293T  SARS-CoV2   HEK293T  SPIKE  Q9Y5Y2        NUBP2   \n",
       "232796  SARS-CoV2-HEK293T  SARS-CoV2   HEK293T  SPIKE  Q9Y606         PUS1   \n",
       "232797  SARS-CoV2-HEK293T  SARS-CoV2   HEK293T  SPIKE  Q9Y6K0        CEPT1   \n",
       "232798  SARS-CoV2-HEK293T  SARS-CoV2   HEK293T  SPIKE  Q9Y6V7        DDX49   \n",
       "\n",
       "            MIST  MIST_origin     Bait-Prey  \n",
       "0       0.950206     0.999608  CT005-P19784  \n",
       "1       0.949765     0.999571  CT005-Q13445  \n",
       "2       0.948138     0.997880  CT005-Q9Y3B3  \n",
       "3       0.948124     0.997817  CT005-Q15691  \n",
       "4       0.945743     0.995156  CT005-Q9ULK5  \n",
       "...          ...          ...           ...  \n",
       "232794  0.320555     0.320555  SPIKE-Q9Y5V0  \n",
       "232795  0.214821     0.214821  SPIKE-Q9Y5Y2  \n",
       "232796  0.353105     0.353105  SPIKE-Q9Y606  \n",
       "232797  0.216346     0.216346  SPIKE-Q9Y6K0  \n",
       "232798  0.357513     0.357513  SPIKE-Q9Y6V7  \n",
       "\n",
       "[232799 rows x 9 columns]"
      ]
     },
     "execution_count": 6,
     "metadata": {},
     "output_type": "execute_result"
    }
   ],
   "source": [
    "ppi_data = pd.read_csv(\"/Users/amibaid/Downloads/ppi_project/ppi_multipathogen_wCoV2.txt\", sep= '\\t')\n",
    "ppi_data['Bait'] = ppi_data.apply(lambda x: x['Bait'].split(\" \")[1].upper() if x.dataset == 'SARS-CoV2-HEK293T' else x['Bait'], axis=1)\n",
    "ppi_data['Bait-Prey'] = ppi_data['Bait']+ '-' + ppi_data['Prey']\n",
    "ppi_data"
   ]
  },
  {
   "cell_type": "markdown",
   "metadata": {},
   "source": [
    "## Creating the Zika virus protein data frame\n",
    "Data conatining the protein sequences for all Zika virus proteins was obtained from an NIH research project. Each Zika virus protein and its corresponding protein sequence was put into a data frame."
   ]
  },
  {
   "cell_type": "code",
   "execution_count": 7,
   "metadata": {},
   "outputs": [
    {
     "data": {
      "text/html": [
       "<div>\n",
       "<style scoped>\n",
       "    .dataframe tbody tr th:only-of-type {\n",
       "        vertical-align: middle;\n",
       "    }\n",
       "\n",
       "    .dataframe tbody tr th {\n",
       "        vertical-align: top;\n",
       "    }\n",
       "\n",
       "    .dataframe thead th {\n",
       "        text-align: right;\n",
       "    }\n",
       "</style>\n",
       "<table border=\"1\" class=\"dataframe\">\n",
       "  <thead>\n",
       "    <tr style=\"text-align: right;\">\n",
       "      <th></th>\n",
       "      <th>Bait</th>\n",
       "      <th>Protein Sequence</th>\n",
       "      <th>DNA Sequence (with 2xStrep tag), Human expression</th>\n",
       "      <th>DNA Sequence (with 2xStrep tag), Human Codon Optimized</th>\n",
       "      <th>DNA Sequence (with 2xStrep tag), Mosquito Codon Optimized</th>\n",
       "      <th>DNA Sequence (with 2xStrep tag), Drosophila Codon Optimized</th>\n",
       "    </tr>\n",
       "  </thead>\n",
       "  <tbody>\n",
       "    <tr>\n",
       "      <th>0</th>\n",
       "      <td>DENV2 16681 Capsid</td>\n",
       "      <td>MNNQRKKAKNTPFNMLKRERNRVSTVQQLTKRFSLGMLQGRGPLKL...</td>\n",
       "      <td>atgaataaccaacggaaaaaggcgaaaaacacgcctttcaatatgc...</td>\n",
       "      <td>atgaacaaccagaggaaaaaggcaaaaaacacaccattcaatatgc...</td>\n",
       "      <td>atgaacaatcagcgtaagaaagccaaaaacaccccgttcaatatgt...</td>\n",
       "      <td>NaN</td>\n",
       "    </tr>\n",
       "    <tr>\n",
       "      <th>1</th>\n",
       "      <td>DENV2 16681 Capsid Anchor</td>\n",
       "      <td>MNNQRKKAKNTPFNMLKRERNRVSTVQQLTKRFSLGMLQGRGPLKL...</td>\n",
       "      <td>atgaataaccaacggaaaaaggcgaaaaacacgcctttcaatatgc...</td>\n",
       "      <td>atgaacaaccagaggaaaaaggcaaaaaacacaccattcaatatgc...</td>\n",
       "      <td>NaN</td>\n",
       "      <td>NaN</td>\n",
       "    </tr>\n",
       "  </tbody>\n",
       "</table>\n",
       "</div>"
      ],
      "text/plain": [
       "0                       Bait  \\\n",
       "0         DENV2 16681 Capsid   \n",
       "1  DENV2 16681 Capsid Anchor   \n",
       "\n",
       "0                                   Protein Sequence  \\\n",
       "0  MNNQRKKAKNTPFNMLKRERNRVSTVQQLTKRFSLGMLQGRGPLKL...   \n",
       "1  MNNQRKKAKNTPFNMLKRERNRVSTVQQLTKRFSLGMLQGRGPLKL...   \n",
       "\n",
       "0  DNA Sequence (with 2xStrep tag), Human expression  \\\n",
       "0  atgaataaccaacggaaaaaggcgaaaaacacgcctttcaatatgc...   \n",
       "1  atgaataaccaacggaaaaaggcgaaaaacacgcctttcaatatgc...   \n",
       "\n",
       "0 DNA Sequence (with 2xStrep tag), Human Codon Optimized  \\\n",
       "0  atgaacaaccagaggaaaaaggcaaaaaacacaccattcaatatgc...       \n",
       "1  atgaacaaccagaggaaaaaggcaaaaaacacaccattcaatatgc...       \n",
       "\n",
       "0 DNA Sequence (with 2xStrep tag), Mosquito Codon Optimized  \\\n",
       "0  atgaacaatcagcgtaagaaagccaaaaacaccccgttcaatatgt...          \n",
       "1                                                NaN          \n",
       "\n",
       "0 DNA Sequence (with 2xStrep tag), Drosophila Codon Optimized  \n",
       "0                                                NaN           \n",
       "1                                                NaN           "
      ]
     },
     "execution_count": 7,
     "metadata": {},
     "output_type": "execute_result"
    }
   ],
   "source": [
    "proteins_data = pd.read_excel(\"/Users/amibaid/Downloads/ppi_project/NIHMS1515954-supplement-7.xlsx\")\n",
    "proteins_data.columns = proteins_data.iloc[0]\n",
    "proteins_data.drop(0,inplace=True)\n",
    "proteins_data.reset_index(drop=True, inplace=True)\n",
    "proteins_data.head(2)"
   ]
  },
  {
   "cell_type": "markdown",
   "metadata": {},
   "source": [
    "The final Zika virus data frame:"
   ]
  },
  {
   "cell_type": "code",
   "execution_count": 8,
   "metadata": {},
   "outputs": [
    {
     "data": {
      "text/html": [
       "<div>\n",
       "<style scoped>\n",
       "    .dataframe tbody tr th:only-of-type {\n",
       "        vertical-align: middle;\n",
       "    }\n",
       "\n",
       "    .dataframe tbody tr th {\n",
       "        vertical-align: top;\n",
       "    }\n",
       "\n",
       "    .dataframe thead th {\n",
       "        text-align: right;\n",
       "    }\n",
       "</style>\n",
       "<table border=\"1\" class=\"dataframe\">\n",
       "  <thead>\n",
       "    <tr style=\"text-align: right;\">\n",
       "      <th></th>\n",
       "      <th>Bait</th>\n",
       "      <th>Protein Sequence</th>\n",
       "    </tr>\n",
       "  </thead>\n",
       "  <tbody>\n",
       "    <tr>\n",
       "      <th>0</th>\n",
       "      <td>ZIKVfp Capsid</td>\n",
       "      <td>MKNPKKKSGGFRIVNMLKRGVARVSPFGGLKRLPAGLLLGHGPIRM...</td>\n",
       "    </tr>\n",
       "    <tr>\n",
       "      <th>1</th>\n",
       "      <td>ZIKVfp NS3</td>\n",
       "      <td>MSGALWDVPAPKEVKKGETTDGVYRVMTRRLLGSTQVGVGVMQEGV...</td>\n",
       "    </tr>\n",
       "    <tr>\n",
       "      <th>2</th>\n",
       "      <td>ZIKVfp NS2B3</td>\n",
       "      <td>MSWPPSEVLTAVGLICALAGGFAKADIEMAGPMAAVGLLIVSYVVS...</td>\n",
       "    </tr>\n",
       "    <tr>\n",
       "      <th>3</th>\n",
       "      <td>ZIKVfp NS4A</td>\n",
       "      <td>MGAAFGVMEALGTLPGHMTERFQEAIDNLAVLMRAETGSRPYKAAA...</td>\n",
       "    </tr>\n",
       "    <tr>\n",
       "      <th>4</th>\n",
       "      <td>ZIKVfp NS5</td>\n",
       "      <td>MGGGTGETLGEKWKARLNQMSALEFYSYKKSGITEVCREEARRALK...</td>\n",
       "    </tr>\n",
       "    <tr>\n",
       "      <th>5</th>\n",
       "      <td>ZIKVug Capsid</td>\n",
       "      <td>MKNPKKKSGGFRIVNMLKRGVARVNPLGGLKRLPAGLLLGHGPIRM...</td>\n",
       "    </tr>\n",
       "    <tr>\n",
       "      <th>6</th>\n",
       "      <td>ZIKVug NS3</td>\n",
       "      <td>MSGALWDVPAPKEVKKGETTDGVYRVMTRRLLGSTQVGVGVMQEGV...</td>\n",
       "    </tr>\n",
       "    <tr>\n",
       "      <th>7</th>\n",
       "      <td>ZIKVug NS2B3</td>\n",
       "      <td>MSWPPSEVLTAVGLICALAGGFAKADIEMAGPMAAVGLLIVSYVVS...</td>\n",
       "    </tr>\n",
       "    <tr>\n",
       "      <th>8</th>\n",
       "      <td>ZIKVug NS4A</td>\n",
       "      <td>MGAALGVMEALGTLPGHMTERFQEAIDNLAVLMRAETGSRPYKAAA...</td>\n",
       "    </tr>\n",
       "    <tr>\n",
       "      <th>9</th>\n",
       "      <td>ZIKVug NS5</td>\n",
       "      <td>MGGGTGETLGEKWKARLNQMSALEFYSYKKSGITEVCREEARRALK...</td>\n",
       "    </tr>\n",
       "  </tbody>\n",
       "</table>\n",
       "</div>"
      ],
      "text/plain": [
       "0           Bait                                   Protein Sequence\n",
       "0  ZIKVfp Capsid  MKNPKKKSGGFRIVNMLKRGVARVSPFGGLKRLPAGLLLGHGPIRM...\n",
       "1     ZIKVfp NS3  MSGALWDVPAPKEVKKGETTDGVYRVMTRRLLGSTQVGVGVMQEGV...\n",
       "2   ZIKVfp NS2B3  MSWPPSEVLTAVGLICALAGGFAKADIEMAGPMAAVGLLIVSYVVS...\n",
       "3    ZIKVfp NS4A  MGAAFGVMEALGTLPGHMTERFQEAIDNLAVLMRAETGSRPYKAAA...\n",
       "4     ZIKVfp NS5  MGGGTGETLGEKWKARLNQMSALEFYSYKKSGITEVCREEARRALK...\n",
       "5  ZIKVug Capsid  MKNPKKKSGGFRIVNMLKRGVARVNPLGGLKRLPAGLLLGHGPIRM...\n",
       "6     ZIKVug NS3  MSGALWDVPAPKEVKKGETTDGVYRVMTRRLLGSTQVGVGVMQEGV...\n",
       "7   ZIKVug NS2B3  MSWPPSEVLTAVGLICALAGGFAKADIEMAGPMAAVGLLIVSYVVS...\n",
       "8    ZIKVug NS4A  MGAALGVMEALGTLPGHMTERFQEAIDNLAVLMRAETGSRPYKAAA...\n",
       "9     ZIKVug NS5  MGGGTGETLGEKWKARLNQMSALEFYSYKKSGITEVCREEARRALK..."
      ]
     },
     "execution_count": 8,
     "metadata": {},
     "output_type": "execute_result"
    }
   ],
   "source": [
    "zika_df = pd.DataFrame(proteins_data[proteins_data.Bait.isin(ppi_data[ppi_data.dataset == 'Zika-HEK293T'].Bait.unique())])\n",
    "zika_df.reset_index(drop=True, inplace=True)\n",
    "zika_df.drop(zika_df.columns[2:], axis=1, inplace=True)\n",
    "zika_df"
   ]
  },
  {
   "cell_type": "markdown",
   "metadata": {},
   "source": [
    "## Creating the human protein data frame\n",
    "Data conatining the protein sequences for all proteins in the human proteome was obtained from UniProt. Each human protein and its corresponding protein sequence was put into a data frame."
   ]
  },
  {
   "cell_type": "code",
   "execution_count": 9,
   "metadata": {},
   "outputs": [],
   "source": [
    "human_df = pd.DataFrame(columns=['Prey', 'Protein Sequence'])\n",
    "for i in SeqIO.parse('/Users/amibaid/Downloads/ppi_project/UP000005640_9606.fasta', 'fasta'):\n",
    "  human_df = human_df.append({'Prey': i.id.split('|')[1], 'Protein Sequence': str(i.seq)}, ignore_index= True)"
   ]
  },
  {
   "cell_type": "code",
   "execution_count": 10,
   "metadata": {},
   "outputs": [
    {
     "data": {
      "text/html": [
       "<div>\n",
       "<style scoped>\n",
       "    .dataframe tbody tr th:only-of-type {\n",
       "        vertical-align: middle;\n",
       "    }\n",
       "\n",
       "    .dataframe tbody tr th {\n",
       "        vertical-align: top;\n",
       "    }\n",
       "\n",
       "    .dataframe thead th {\n",
       "        text-align: right;\n",
       "    }\n",
       "</style>\n",
       "<table border=\"1\" class=\"dataframe\">\n",
       "  <thead>\n",
       "    <tr style=\"text-align: right;\">\n",
       "      <th></th>\n",
       "      <th>Prey</th>\n",
       "      <th>Protein Sequence</th>\n",
       "    </tr>\n",
       "  </thead>\n",
       "  <tbody>\n",
       "    <tr>\n",
       "      <th>0</th>\n",
       "      <td>A0A024R1R8</td>\n",
       "      <td>MSSHEGGKKKALKQPKKQAKEMDEEEKAFKQKQKEEQKKLEVLKAK...</td>\n",
       "    </tr>\n",
       "    <tr>\n",
       "      <th>1</th>\n",
       "      <td>A0A024RBG1</td>\n",
       "      <td>MMKFKPNQTRTYDREGFKKRAACLCFRSEQEDEVLLVSSSRYPDQW...</td>\n",
       "    </tr>\n",
       "    <tr>\n",
       "      <th>2</th>\n",
       "      <td>A0A024RCN7</td>\n",
       "      <td>MERSFVWLSCLDSDSCNLTFRLGEVESHACSPSLLWNLLTQYLPPG...</td>\n",
       "    </tr>\n",
       "    <tr>\n",
       "      <th>3</th>\n",
       "      <td>A0A075B6H5</td>\n",
       "      <td>METVVTTLPREGGVGPSRKMLLLLLLLGPGSGLSAVVSQHPSRVIC...</td>\n",
       "    </tr>\n",
       "    <tr>\n",
       "      <th>4</th>\n",
       "      <td>A0A075B6H7</td>\n",
       "      <td>MEAPAQLLFLLLLWLPDTTREIVMTQSPPTLSLSPGERVTLSCRAS...</td>\n",
       "    </tr>\n",
       "  </tbody>\n",
       "</table>\n",
       "</div>"
      ],
      "text/plain": [
       "         Prey                                   Protein Sequence\n",
       "0  A0A024R1R8  MSSHEGGKKKALKQPKKQAKEMDEEEKAFKQKQKEEQKKLEVLKAK...\n",
       "1  A0A024RBG1  MMKFKPNQTRTYDREGFKKRAACLCFRSEQEDEVLLVSSSRYPDQW...\n",
       "2  A0A024RCN7  MERSFVWLSCLDSDSCNLTFRLGEVESHACSPSLLWNLLTQYLPPG...\n",
       "3  A0A075B6H5  METVVTTLPREGGVGPSRKMLLLLLLLGPGSGLSAVVSQHPSRVIC...\n",
       "4  A0A075B6H7  MEAPAQLLFLLLLWLPDTTREIVMTQSPPTLSLSPGERVTLSCRAS..."
      ]
     },
     "execution_count": 10,
     "metadata": {},
     "output_type": "execute_result"
    }
   ],
   "source": [
    "human_df.head()"
   ]
  },
  {
   "cell_type": "markdown",
   "metadata": {},
   "source": [
    "## Creating the positive data frame\n",
    "From the data frame conatining known Zika-human protein interaction, each pair of interacting Zika virus bait and human prey with a MIST score of over 0.75 was selected. The pair was added to the positive data frame and the corresponding Zika virus and human protein sequences were retrieved from their respective data frames and added."
   ]
  },
  {
   "cell_type": "code",
   "execution_count": 11,
   "metadata": {},
   "outputs": [
    {
     "data": {
      "text/html": [
       "<div>\n",
       "<style scoped>\n",
       "    .dataframe tbody tr th:only-of-type {\n",
       "        vertical-align: middle;\n",
       "    }\n",
       "\n",
       "    .dataframe tbody tr th {\n",
       "        vertical-align: top;\n",
       "    }\n",
       "\n",
       "    .dataframe thead th {\n",
       "        text-align: right;\n",
       "    }\n",
       "</style>\n",
       "<table border=\"1\" class=\"dataframe\">\n",
       "  <thead>\n",
       "    <tr style=\"text-align: right;\">\n",
       "      <th></th>\n",
       "      <th>Bait</th>\n",
       "      <th>Prey</th>\n",
       "      <th>Bait Sequence</th>\n",
       "      <th>Prey Sequence</th>\n",
       "    </tr>\n",
       "  </thead>\n",
       "  <tbody>\n",
       "    <tr>\n",
       "      <th>0</th>\n",
       "      <td>ZIKVfp Capsid</td>\n",
       "      <td>Q9UGR2</td>\n",
       "      <td>MKNPKKKSGGFRIVNMLKRGVARVSPFGGLKRLPAGLLLGHGPIRM...</td>\n",
       "      <td>MERQKRKADIEKGLQFIQSTLPLKQEEYEAFLLKLVQNLFAEGNDL...</td>\n",
       "    </tr>\n",
       "    <tr>\n",
       "      <th>1</th>\n",
       "      <td>ZIKVfp Capsid</td>\n",
       "      <td>O60524</td>\n",
       "      <td>MKNPKKKSGGFRIVNMLKRGVARVSPFGGLKRLPAGLLLGHGPIRM...</td>\n",
       "      <td>MKSRFSTIDLRAVLAELNASLLGMRVNNVYDVDNKTYLIRLQKPDF...</td>\n",
       "    </tr>\n",
       "    <tr>\n",
       "      <th>2</th>\n",
       "      <td>ZIKVfp Capsid</td>\n",
       "      <td>Q9NSI2</td>\n",
       "      <td>MKNPKKKSGGFRIVNMLKRGVARVSPFGGLKRLPAGLLLGHGPIRM...</td>\n",
       "      <td>MGKVRGLRARVHQAAVRPKGEAAPGPAPPAPEATPPPASAAGKDWA...</td>\n",
       "    </tr>\n",
       "    <tr>\n",
       "      <th>3</th>\n",
       "      <td>ZIKVug Capsid</td>\n",
       "      <td>Q9NSI2</td>\n",
       "      <td>MKNPKKKSGGFRIVNMLKRGVARVNPLGGLKRLPAGLLLGHGPIRM...</td>\n",
       "      <td>MGKVRGLRARVHQAAVRPKGEAAPGPAPPAPEATPPPASAAGKDWA...</td>\n",
       "    </tr>\n",
       "    <tr>\n",
       "      <th>4</th>\n",
       "      <td>ZIKVfp Capsid</td>\n",
       "      <td>Q9BYD6</td>\n",
       "      <td>MKNPKKKSGGFRIVNMLKRGVARVSPFGGLKRLPAGLLLGHGPIRM...</td>\n",
       "      <td>MAAAVRCMGRALIHHQRHSLSKMVYQTSLCSCSVNIRVPNRHFAAA...</td>\n",
       "    </tr>\n",
       "    <tr>\n",
       "      <th>...</th>\n",
       "      <td>...</td>\n",
       "      <td>...</td>\n",
       "      <td>...</td>\n",
       "      <td>...</td>\n",
       "    </tr>\n",
       "    <tr>\n",
       "      <th>699</th>\n",
       "      <td>ZIKVug NS5</td>\n",
       "      <td>P07339</td>\n",
       "      <td>MGGGTGETLGEKWKARLNQMSALEFYSYKKSGITEVCREEARRALK...</td>\n",
       "      <td>MQPSSLLPLALCLLAAPASALVRIPLHKFTSIRRTMSEVGGSVEDL...</td>\n",
       "    </tr>\n",
       "    <tr>\n",
       "      <th>700</th>\n",
       "      <td>ZIKVug NS5</td>\n",
       "      <td>Q8N954</td>\n",
       "      <td>MGGGTGETLGEKWKARLNQMSALEFYSYKKSGITEVCREEARRALK...</td>\n",
       "      <td>MRSARSTALNRGEQRAVRYYSHMKLNMAEEEDYMSDSFINVQEDIR...</td>\n",
       "    </tr>\n",
       "    <tr>\n",
       "      <th>701</th>\n",
       "      <td>ZIKVug NS5</td>\n",
       "      <td>O15042</td>\n",
       "      <td>MGGGTGETLGEKWKARLNQMSALEFYSYKKSGITEVCREEARRALK...</td>\n",
       "      <td>MADKTPGGSQKASSKTRSSDVHSSGSSDAHMDASGPSDSDMPSRTR...</td>\n",
       "    </tr>\n",
       "    <tr>\n",
       "      <th>702</th>\n",
       "      <td>ZIKVug NS5</td>\n",
       "      <td>P13807</td>\n",
       "      <td>MGGGTGETLGEKWKARLNQMSALEFYSYKKSGITEVCREEARRALK...</td>\n",
       "      <td>MPLNRTLSMSSLPGLEDWEDEFDLENAVLFEVAWEVANKVGGIYTV...</td>\n",
       "    </tr>\n",
       "    <tr>\n",
       "      <th>703</th>\n",
       "      <td>ZIKVug NS5</td>\n",
       "      <td>Q96P47</td>\n",
       "      <td>MGGGTGETLGEKWKARLNQMSALEFYSYKKSGITEVCREEARRALK...</td>\n",
       "      <td>MNFQAGGGQSPQQQQQLAGGPPQQFALSNSAAIRAEIQRFESVHPN...</td>\n",
       "    </tr>\n",
       "  </tbody>\n",
       "</table>\n",
       "<p>704 rows × 4 columns</p>\n",
       "</div>"
      ],
      "text/plain": [
       "              Bait    Prey                                      Bait Sequence  \\\n",
       "0    ZIKVfp Capsid  Q9UGR2  MKNPKKKSGGFRIVNMLKRGVARVSPFGGLKRLPAGLLLGHGPIRM...   \n",
       "1    ZIKVfp Capsid  O60524  MKNPKKKSGGFRIVNMLKRGVARVSPFGGLKRLPAGLLLGHGPIRM...   \n",
       "2    ZIKVfp Capsid  Q9NSI2  MKNPKKKSGGFRIVNMLKRGVARVSPFGGLKRLPAGLLLGHGPIRM...   \n",
       "3    ZIKVug Capsid  Q9NSI2  MKNPKKKSGGFRIVNMLKRGVARVNPLGGLKRLPAGLLLGHGPIRM...   \n",
       "4    ZIKVfp Capsid  Q9BYD6  MKNPKKKSGGFRIVNMLKRGVARVSPFGGLKRLPAGLLLGHGPIRM...   \n",
       "..             ...     ...                                                ...   \n",
       "699     ZIKVug NS5  P07339  MGGGTGETLGEKWKARLNQMSALEFYSYKKSGITEVCREEARRALK...   \n",
       "700     ZIKVug NS5  Q8N954  MGGGTGETLGEKWKARLNQMSALEFYSYKKSGITEVCREEARRALK...   \n",
       "701     ZIKVug NS5  O15042  MGGGTGETLGEKWKARLNQMSALEFYSYKKSGITEVCREEARRALK...   \n",
       "702     ZIKVug NS5  P13807  MGGGTGETLGEKWKARLNQMSALEFYSYKKSGITEVCREEARRALK...   \n",
       "703     ZIKVug NS5  Q96P47  MGGGTGETLGEKWKARLNQMSALEFYSYKKSGITEVCREEARRALK...   \n",
       "\n",
       "                                         Prey Sequence  \n",
       "0    MERQKRKADIEKGLQFIQSTLPLKQEEYEAFLLKLVQNLFAEGNDL...  \n",
       "1    MKSRFSTIDLRAVLAELNASLLGMRVNNVYDVDNKTYLIRLQKPDF...  \n",
       "2    MGKVRGLRARVHQAAVRPKGEAAPGPAPPAPEATPPPASAAGKDWA...  \n",
       "3    MGKVRGLRARVHQAAVRPKGEAAPGPAPPAPEATPPPASAAGKDWA...  \n",
       "4    MAAAVRCMGRALIHHQRHSLSKMVYQTSLCSCSVNIRVPNRHFAAA...  \n",
       "..                                                 ...  \n",
       "699  MQPSSLLPLALCLLAAPASALVRIPLHKFTSIRRTMSEVGGSVEDL...  \n",
       "700  MRSARSTALNRGEQRAVRYYSHMKLNMAEEEDYMSDSFINVQEDIR...  \n",
       "701  MADKTPGGSQKASSKTRSSDVHSSGSSDAHMDASGPSDSDMPSRTR...  \n",
       "702  MPLNRTLSMSSLPGLEDWEDEFDLENAVLFEVAWEVANKVGGIYTV...  \n",
       "703  MNFQAGGGQSPQQQQQLAGGPPQQFALSNSAAIRAEIQRFESVHPN...  \n",
       "\n",
       "[704 rows x 4 columns]"
      ]
     },
     "execution_count": 11,
     "metadata": {},
     "output_type": "execute_result"
    }
   ],
   "source": [
    "pos_data = pd.DataFrame(ppi_data[(ppi_data.dataset == 'Zika-HEK293T') & (ppi_data['MIST'] >= 0.75)]).iloc[:, 3:5]\n",
    "pos_data.reset_index(drop=True, inplace=True)\n",
    "pos_data = pd.merge(pos_data, zika_df, on='Bait')\n",
    "pos_data = pd.merge(pos_data, human_df, on='Prey')\n",
    "pos_data.rename({'Protein Sequence_x': 'Bait Sequence', 'Protein Sequence_y' : 'Prey Sequence'}, axis=1, inplace=True)\n",
    "pos_data"
   ]
  },
  {
   "cell_type": "markdown",
   "metadata": {},
   "source": [
    "## Creating the negative data frame\n",
    "The negative data was selected by matching each Zika virus prey protein to a human protein not found in the interaction data frame, ensuring there is no interaction between the two proteins. The non-interacting virus bait and human prey proteins were added to the negative data frame. The corresponding Zika virus and human protein sequences were retrieved from their respective data frames and added."
   ]
  },
  {
   "cell_type": "code",
   "execution_count": 12,
   "metadata": {
    "scrolled": false
   },
   "outputs": [
    {
     "data": {
      "text/html": [
       "<div>\n",
       "<style scoped>\n",
       "    .dataframe tbody tr th:only-of-type {\n",
       "        vertical-align: middle;\n",
       "    }\n",
       "\n",
       "    .dataframe tbody tr th {\n",
       "        vertical-align: top;\n",
       "    }\n",
       "\n",
       "    .dataframe thead th {\n",
       "        text-align: right;\n",
       "    }\n",
       "</style>\n",
       "<table border=\"1\" class=\"dataframe\">\n",
       "  <thead>\n",
       "    <tr style=\"text-align: right;\">\n",
       "      <th></th>\n",
       "      <th>Bait</th>\n",
       "      <th>Prey</th>\n",
       "      <th>Bait Sequence</th>\n",
       "      <th>Prey Sequence</th>\n",
       "    </tr>\n",
       "  </thead>\n",
       "  <tbody>\n",
       "    <tr>\n",
       "      <th>0</th>\n",
       "      <td>ZIKVfp Capsid</td>\n",
       "      <td>Q2TBC4</td>\n",
       "      <td>MKNPKKKSGGFRIVNMLKRGVARVSPFGGLKRLPAGLLLGHGPIRM...</td>\n",
       "      <td>MSPQGPAVLSLGSLCLDTNQAPNWTGLQTLLQQLPPQDIDERYCLA...</td>\n",
       "    </tr>\n",
       "    <tr>\n",
       "      <th>1</th>\n",
       "      <td>ZIKVfp NS3</td>\n",
       "      <td>P0DO92</td>\n",
       "      <td>MSGALWDVPAPKEVKKGETTDGVYRVMTRRLLGSTQVGVGVMQEGV...</td>\n",
       "      <td>MASTPMGNEGEKKSSWPSQAAPSLRGGPASLSRSEEYLSQISAELM...</td>\n",
       "    </tr>\n",
       "    <tr>\n",
       "      <th>2</th>\n",
       "      <td>ZIKVfp NS2B3</td>\n",
       "      <td>P23409</td>\n",
       "      <td>MSWPPSEVLTAVGLICALAGGFAKADIEMAGPMAAVGLLIVSYVVS...</td>\n",
       "      <td>MMMDLFETGSYFFYLDGENVTLQPLEVAEGSPLYPGSDGTLSPCQD...</td>\n",
       "    </tr>\n",
       "    <tr>\n",
       "      <th>3</th>\n",
       "      <td>ZIKVfp NS4A</td>\n",
       "      <td>Q8N8S7</td>\n",
       "      <td>MGAAFGVMEALGTLPGHMTERFQEAIDNLAVLMRAETGSRPYKAAA...</td>\n",
       "      <td>MSEQSICQARAAVMVYDDANKKWVPAGGSTGFSRVHIYHHTGNNTF...</td>\n",
       "    </tr>\n",
       "    <tr>\n",
       "      <th>4</th>\n",
       "      <td>ZIKVfp NS5</td>\n",
       "      <td>Q9UN74</td>\n",
       "      <td>MGGGTGETLGEKWKARLNQMSALEFYSYKKSGITEVCREEARRALK...</td>\n",
       "      <td>MEFSWGSGQESRRLLLLLLLLAAWEAGNGQLHYSVSEEAKHGTFVG...</td>\n",
       "    </tr>\n",
       "    <tr>\n",
       "      <th>...</th>\n",
       "      <td>...</td>\n",
       "      <td>...</td>\n",
       "      <td>...</td>\n",
       "      <td>...</td>\n",
       "    </tr>\n",
       "    <tr>\n",
       "      <th>1395</th>\n",
       "      <td>ZIKVug Capsid</td>\n",
       "      <td>A8MYV0</td>\n",
       "      <td>MKNPKKKSGGFRIVNMLKRGVARVNPLGGLKRLPAGLLLGHGPIRM...</td>\n",
       "      <td>MGTRGPSAPVDTTPAKTIVVYRNGDPFYVGKKFVLSRRRAATFEAL...</td>\n",
       "    </tr>\n",
       "    <tr>\n",
       "      <th>1396</th>\n",
       "      <td>ZIKVug NS3</td>\n",
       "      <td>P31249</td>\n",
       "      <td>MSGALWDVPAPKEVKKGETTDGVYRVMTRRLLGSTQVGVGVMQEGV...</td>\n",
       "      <td>MLFEQGQQALELPECTMQKAAYYENPGLFGGYGYSKTTDTYGYSTP...</td>\n",
       "    </tr>\n",
       "    <tr>\n",
       "      <th>1397</th>\n",
       "      <td>ZIKVug NS2B3</td>\n",
       "      <td>Q5VVC0</td>\n",
       "      <td>MSWPPSEVLTAVGLICALAGGFAKADIEMAGPMAAVGLLIVSYVVS...</td>\n",
       "      <td>MAESGKEKIKWTTTIIISSSLKSYEVATALENRSHKVRYSDSVENG...</td>\n",
       "    </tr>\n",
       "    <tr>\n",
       "      <th>1398</th>\n",
       "      <td>ZIKVug NS4A</td>\n",
       "      <td>F5H4B4</td>\n",
       "      <td>MGAALGVMEALGTLPGHMTERFQEAIDNLAVLMRAETGSRPYKAAA...</td>\n",
       "      <td>MNHFRKMEVINLTTLPMIPVDEHLAVSLVARNTMVKTVRKELENNP...</td>\n",
       "    </tr>\n",
       "    <tr>\n",
       "      <th>1399</th>\n",
       "      <td>ZIKVug NS5</td>\n",
       "      <td>A4D1U4</td>\n",
       "      <td>MGGGTGETLGEKWKARLNQMSALEFYSYKKSGITEVCREEARRALK...</td>\n",
       "      <td>MVEQGDAAPLLRWAEGPAVSLPQAPQPQAGGWGRGGGGGARPAAEP...</td>\n",
       "    </tr>\n",
       "  </tbody>\n",
       "</table>\n",
       "<p>1400 rows × 4 columns</p>\n",
       "</div>"
      ],
      "text/plain": [
       "               Bait    Prey  \\\n",
       "0     ZIKVfp Capsid  Q2TBC4   \n",
       "1        ZIKVfp NS3  P0DO92   \n",
       "2      ZIKVfp NS2B3  P23409   \n",
       "3       ZIKVfp NS4A  Q8N8S7   \n",
       "4        ZIKVfp NS5  Q9UN74   \n",
       "...             ...     ...   \n",
       "1395  ZIKVug Capsid  A8MYV0   \n",
       "1396     ZIKVug NS3  P31249   \n",
       "1397   ZIKVug NS2B3  Q5VVC0   \n",
       "1398    ZIKVug NS4A  F5H4B4   \n",
       "1399     ZIKVug NS5  A4D1U4   \n",
       "\n",
       "                                          Bait Sequence  \\\n",
       "0     MKNPKKKSGGFRIVNMLKRGVARVSPFGGLKRLPAGLLLGHGPIRM...   \n",
       "1     MSGALWDVPAPKEVKKGETTDGVYRVMTRRLLGSTQVGVGVMQEGV...   \n",
       "2     MSWPPSEVLTAVGLICALAGGFAKADIEMAGPMAAVGLLIVSYVVS...   \n",
       "3     MGAAFGVMEALGTLPGHMTERFQEAIDNLAVLMRAETGSRPYKAAA...   \n",
       "4     MGGGTGETLGEKWKARLNQMSALEFYSYKKSGITEVCREEARRALK...   \n",
       "...                                                 ...   \n",
       "1395  MKNPKKKSGGFRIVNMLKRGVARVNPLGGLKRLPAGLLLGHGPIRM...   \n",
       "1396  MSGALWDVPAPKEVKKGETTDGVYRVMTRRLLGSTQVGVGVMQEGV...   \n",
       "1397  MSWPPSEVLTAVGLICALAGGFAKADIEMAGPMAAVGLLIVSYVVS...   \n",
       "1398  MGAALGVMEALGTLPGHMTERFQEAIDNLAVLMRAETGSRPYKAAA...   \n",
       "1399  MGGGTGETLGEKWKARLNQMSALEFYSYKKSGITEVCREEARRALK...   \n",
       "\n",
       "                                          Prey Sequence  \n",
       "0     MSPQGPAVLSLGSLCLDTNQAPNWTGLQTLLQQLPPQDIDERYCLA...  \n",
       "1     MASTPMGNEGEKKSSWPSQAAPSLRGGPASLSRSEEYLSQISAELM...  \n",
       "2     MMMDLFETGSYFFYLDGENVTLQPLEVAEGSPLYPGSDGTLSPCQD...  \n",
       "3     MSEQSICQARAAVMVYDDANKKWVPAGGSTGFSRVHIYHHTGNNTF...  \n",
       "4     MEFSWGSGQESRRLLLLLLLLAAWEAGNGQLHYSVSEEAKHGTFVG...  \n",
       "...                                                 ...  \n",
       "1395  MGTRGPSAPVDTTPAKTIVVYRNGDPFYVGKKFVLSRRRAATFEAL...  \n",
       "1396  MLFEQGQQALELPECTMQKAAYYENPGLFGGYGYSKTTDTYGYSTP...  \n",
       "1397  MAESGKEKIKWTTTIIISSSLKSYEVATALENRSHKVRYSDSVENG...  \n",
       "1398  MNHFRKMEVINLTTLPMIPVDEHLAVSLVARNTMVKTVRKELENNP...  \n",
       "1399  MVEQGDAAPLLRWAEGPAVSLPQAPQPQAGGWGRGGGGGARPAAEP...  \n",
       "\n",
       "[1400 rows x 4 columns]"
      ]
     },
     "execution_count": 12,
     "metadata": {},
     "output_type": "execute_result"
    }
   ],
   "source": [
    "neg_data = pd.DataFrame(zika_df)\n",
    "neg_data = pd.concat([neg_data]*140, ignore_index=True)\n",
    "neg_data = neg_data.rename(columns={\"Protein Sequence\": \"Bait Sequence\"})\n",
    "neg_human_data = human_df[~human_df.Prey.isin(ppi_data.Prey.unique())].sample(n=1400, random_state=22)\n",
    "neg_human_data.reset_index(drop=True, inplace=True)\n",
    "neg_human_data = neg_human_data.rename(columns={\"Protein Sequence\": \"Prey Sequence\"})\n",
    "neg_data = pd.concat([neg_data, neg_human_data], axis=1)\n",
    "neg_data = neg_data[['Bait', 'Prey', 'Bait Sequence', 'Prey Sequence']]\n",
    "neg_data"
   ]
  },
  {
   "cell_type": "markdown",
   "metadata": {},
   "source": [
    "# Adding the features of the data"
   ]
  },
  {
   "cell_type": "markdown",
   "metadata": {},
   "source": [
    "## Sequence alignment\n",
    "One predicted variable that could help predict the interaction between two proteins is the similarilty of their sequences. Using a global pairwise alignment algorithm, the sequence alignment scores for each bait and prey pair were added to the positive and negative data frames."
   ]
  },
  {
   "cell_type": "code",
   "execution_count": 13,
   "metadata": {},
   "outputs": [],
   "source": [
    "pos_scores = []\n",
    "for i in range(len(pos_data[\"Bait\"])):\n",
    "    X = pos_data[\"Bait Sequence\"][i]\n",
    "    Y = pos_data[\"Prey Sequence\"][i]\n",
    "    alignments = pairwise2.align.globalxx(X, Y)\n",
    "    pos_scores.append(alignments[0][2])"
   ]
  },
  {
   "cell_type": "code",
   "execution_count": 14,
   "metadata": {},
   "outputs": [],
   "source": [
    "neg_scores = []\n",
    "for i in range(len(neg_data[\"Bait\"])):\n",
    "    X = neg_data[\"Bait Sequence\"][i]\n",
    "    Y = neg_data[\"Prey Sequence\"][i]\n",
    "    alignments = pairwise2.align.globalxx(X, Y)\n",
    "    neg_scores.append(alignments[0][2])"
   ]
  },
  {
   "cell_type": "markdown",
   "metadata": {},
   "source": [
    "The histogram of the distribution of alignment scores for the positive and negative data. Unfortunately, the association was not as strong as expected."
   ]
  },
  {
   "cell_type": "code",
   "execution_count": 15,
   "metadata": {
    "scrolled": true
   },
   "outputs": [
    {
     "data": {
      "image/png": "[encoded data removed]",
      "text/plain": [
       "<Figure size 432x288 with 1 Axes>"
      ]
     },
     "metadata": {
      "needs_background": "light"
     },
     "output_type": "display_data"
    }
   ],
   "source": [
    "plt.hist(pos_scores, alpha=1, label='Pos')\n",
    "plt.hist(neg_scores, alpha=0.3, label='Neg')\n",
    "plt.legend(loc='upper right')\n",
    "plt.show()"
   ]
  },
  {
   "cell_type": "markdown",
   "metadata": {},
   "source": [
    "## Bait protein length\n",
    "Another variable that could help predict and interaction was bait protein lenght. So the lenght of the bait protein in each bait-prey pair was added to the postive and negative data frames."
   ]
  },
  {
   "cell_type": "code",
   "execution_count": 16,
   "metadata": {},
   "outputs": [],
   "source": [
    "pos_data['y_true'], neg_data['y_true'] = 1, 0\n",
    "pos_data[\"Score\"], neg_data['Score'] = pos_scores, neg_scores\n",
    "pos_data[\"Bait Length\"], neg_data[\"Bait Length\"] = pos_data.apply(lambda x: len(x['Bait Sequence']), axis=1), neg_data.apply(lambda x: len(x['Bait Sequence']), axis=1)"
   ]
  },
  {
   "cell_type": "markdown",
   "metadata": {},
   "source": [
    "## Amino acid counts\n",
    "The third variable used to possibly help predict the interaction between a bait and prey protein was the amino acid counts of both protein sequences. So, the amount of the 4 types of amino acids in each bait and prey protein sequence was calculated and added to the postive and negative data frame."
   ]
  },
  {
   "cell_type": "code",
   "execution_count": 17,
   "metadata": {},
   "outputs": [],
   "source": [
    "def classify_amino_acids(seq):\n",
    "    charged = 0\n",
    "    polar = 0\n",
    "    amphiatic = 0\n",
    "    hydrophobic = 0\n",
    "    \n",
    "    for i in seq:\n",
    "        if i in ['R', 'K', 'D', 'E']:\n",
    "            charged += 1\n",
    "        elif i in ['Q', 'N', 'H', 'S', 'T', 'Y', 'C']:\n",
    "            polar += 1\n",
    "        elif i in ['W', 'Y', 'M']:\n",
    "            amphiatic += 1\n",
    "        elif i in ['A', 'I', 'L', 'M', 'F', 'V', 'P', 'G']:\n",
    "            hydrophobic += 1\n",
    "            \n",
    "    return [charged, polar, amphiatic, hydrophobic]"
   ]
  },
  {
   "cell_type": "code",
   "execution_count": 18,
   "metadata": {},
   "outputs": [],
   "source": [
    "def add_amino_acid_counts(df):\n",
    "    cols = ['Bait charged', 'Bait polar', 'Bait amphiatic', 'Bait hydrophobic', 'Prey charged', 'Prey polar', 'Prey amphiatic', 'Prey hydrophobic']\n",
    "    for i in range(8):\n",
    "        conditional = 'Bait Sequence' if 'Bait' in cols[i] else 'Prey Sequence'\n",
    "        df[cols[i]] = df.apply(lambda x: classify_amino_acids(x[conditional])[i%4], axis=1)\n",
    "\n",
    "add_amino_acid_counts(pos_data)\n",
    "add_amino_acid_counts(neg_data)"
   ]
  },
  {
   "cell_type": "markdown",
   "metadata": {},
   "source": [
    "## Atomic weight of bait protein\n",
    "The last variable used to possibly help predict the interaction between two proteins was the atomic weight of the bait protein. The weight vlaues for each virus bait protein were claculated using and external calulator and added to the data frame."
   ]
  },
  {
   "cell_type": "code",
   "execution_count": 19,
   "metadata": {},
   "outputs": [],
   "source": [
    "weight_df = pd.DataFrame(zika_df.iloc[:, 0])\n",
    "weight_df['Bait Weight'] = [15217.47, 72217.52, 85983.51, 17429.01, 106577.33, 15238.50, 72076.52, 85875.54, 17395.03, 106611.34]\n",
    "pos_data, neg_data = pd.merge(pos_data, weight_df, on='Bait'), pd.merge(neg_data, weight_df, on='Bait')"
   ]
  },
  {
   "cell_type": "code",
   "execution_count": 20,
   "metadata": {
    "scrolled": true
   },
   "outputs": [
    {
     "data": {
      "text/html": [
       "<div>\n",
       "<style scoped>\n",
       "    .dataframe tbody tr th:only-of-type {\n",
       "        vertical-align: middle;\n",
       "    }\n",
       "\n",
       "    .dataframe tbody tr th {\n",
       "        vertical-align: top;\n",
       "    }\n",
       "\n",
       "    .dataframe thead th {\n",
       "        text-align: right;\n",
       "    }\n",
       "</style>\n",
       "<table border=\"1\" class=\"dataframe\">\n",
       "  <thead>\n",
       "    <tr style=\"text-align: right;\">\n",
       "      <th></th>\n",
       "      <th>Bait</th>\n",
       "      <th>Prey</th>\n",
       "      <th>Bait Sequence</th>\n",
       "      <th>Prey Sequence</th>\n",
       "      <th>y_true</th>\n",
       "      <th>Score</th>\n",
       "      <th>Bait Length</th>\n",
       "      <th>Bait charged</th>\n",
       "      <th>Bait polar</th>\n",
       "      <th>Bait amphiatic</th>\n",
       "      <th>Bait hydrophobic</th>\n",
       "      <th>Prey charged</th>\n",
       "      <th>Prey polar</th>\n",
       "      <th>Prey amphiatic</th>\n",
       "      <th>Prey hydrophobic</th>\n",
       "      <th>Bait Weight</th>\n",
       "    </tr>\n",
       "  </thead>\n",
       "  <tbody>\n",
       "    <tr>\n",
       "      <th>0</th>\n",
       "      <td>ZIKVfp Capsid</td>\n",
       "      <td>Q9UGR2</td>\n",
       "      <td>MKNPKKKSGGFRIVNMLKRGVARVSPFGGLKRLPAGLLLGHGPIRM...</td>\n",
       "      <td>MERQKRKADIEKGLQFIQSTLPLKQEEYEAFLLKLVQNLFAEGNDL...</td>\n",
       "      <td>1</td>\n",
       "      <td>114.0</td>\n",
       "      <td>142</td>\n",
       "      <td>36</td>\n",
       "      <td>19</td>\n",
       "      <td>8</td>\n",
       "      <td>78</td>\n",
       "      <td>256</td>\n",
       "      <td>283</td>\n",
       "      <td>35</td>\n",
       "      <td>403</td>\n",
       "      <td>15217.47</td>\n",
       "    </tr>\n",
       "    <tr>\n",
       "      <th>1</th>\n",
       "      <td>ZIKVfp Capsid</td>\n",
       "      <td>O60524</td>\n",
       "      <td>MKNPKKKSGGFRIVNMLKRGVARVSPFGGLKRLPAGLLLGHGPIRM...</td>\n",
       "      <td>MKSRFSTIDLRAVLAELNASLLGMRVNNVYDVDNKTYLIRLQKPDF...</td>\n",
       "      <td>1</td>\n",
       "      <td>118.0</td>\n",
       "      <td>142</td>\n",
       "      <td>36</td>\n",
       "      <td>19</td>\n",
       "      <td>8</td>\n",
       "      <td>78</td>\n",
       "      <td>352</td>\n",
       "      <td>288</td>\n",
       "      <td>31</td>\n",
       "      <td>405</td>\n",
       "      <td>15217.47</td>\n",
       "    </tr>\n",
       "  </tbody>\n",
       "</table>\n",
       "</div>"
      ],
      "text/plain": [
       "            Bait    Prey                                      Bait Sequence  \\\n",
       "0  ZIKVfp Capsid  Q9UGR2  MKNPKKKSGGFRIVNMLKRGVARVSPFGGLKRLPAGLLLGHGPIRM...   \n",
       "1  ZIKVfp Capsid  O60524  MKNPKKKSGGFRIVNMLKRGVARVSPFGGLKRLPAGLLLGHGPIRM...   \n",
       "\n",
       "                                       Prey Sequence  y_true  Score  \\\n",
       "0  MERQKRKADIEKGLQFIQSTLPLKQEEYEAFLLKLVQNLFAEGNDL...       1  114.0   \n",
       "1  MKSRFSTIDLRAVLAELNASLLGMRVNNVYDVDNKTYLIRLQKPDF...       1  118.0   \n",
       "\n",
       "   Bait Length  Bait charged  Bait polar  Bait amphiatic  Bait hydrophobic  \\\n",
       "0          142            36          19               8                78   \n",
       "1          142            36          19               8                78   \n",
       "\n",
       "   Prey charged  Prey polar  Prey amphiatic  Prey hydrophobic  Bait Weight  \n",
       "0           256         283              35               403     15217.47  \n",
       "1           352         288              31               405     15217.47  "
      ]
     },
     "execution_count": 20,
     "metadata": {},
     "output_type": "execute_result"
    }
   ],
   "source": [
    "pos_data.head(2)"
   ]
  },
  {
   "cell_type": "markdown",
   "metadata": {},
   "source": [
    "# Creating and testing the model"
   ]
  },
  {
   "cell_type": "markdown",
   "metadata": {},
   "source": [
    "## Combining the positive and negative data frames\n",
    "The positive and negative data frames were combined to form the full data frame contain the bait and prey proteins, their sequences, all 11 features of each interaction, and whether was interaction was from the postive or negative data frame."
   ]
  },
  {
   "cell_type": "code",
   "execution_count": 21,
   "metadata": {},
   "outputs": [],
   "source": [
    "all_data = pd.DataFrame(pd.concat([pos_data, neg_data], axis=0, ignore_index= True))\n",
    "pca = PCA(2)\n",
    "pca_data = all_data.iloc[:, 5:]\n",
    "pca.fit(pca_data)\n",
    "x_pca = pd.DataFrame(pca.transform(pca_data), columns =['1', '2'])\n",
    "x_pca['y_true'] = pd.DataFrame(all_data['y_true'])"
   ]
  },
  {
   "cell_type": "code",
   "execution_count": 22,
   "metadata": {},
   "outputs": [
    {
     "data": {
      "text/html": [
       "<div>\n",
       "<style scoped>\n",
       "    .dataframe tbody tr th:only-of-type {\n",
       "        vertical-align: middle;\n",
       "    }\n",
       "\n",
       "    .dataframe tbody tr th {\n",
       "        vertical-align: top;\n",
       "    }\n",
       "\n",
       "    .dataframe thead th {\n",
       "        text-align: right;\n",
       "    }\n",
       "</style>\n",
       "<table border=\"1\" class=\"dataframe\">\n",
       "  <thead>\n",
       "    <tr style=\"text-align: right;\">\n",
       "      <th></th>\n",
       "      <th>Bait</th>\n",
       "      <th>Prey</th>\n",
       "      <th>Bait Sequence</th>\n",
       "      <th>Prey Sequence</th>\n",
       "      <th>y_true</th>\n",
       "      <th>Score</th>\n",
       "      <th>Bait Length</th>\n",
       "      <th>Bait charged</th>\n",
       "      <th>Bait polar</th>\n",
       "      <th>Bait amphiatic</th>\n",
       "      <th>Bait hydrophobic</th>\n",
       "      <th>Prey charged</th>\n",
       "      <th>Prey polar</th>\n",
       "      <th>Prey amphiatic</th>\n",
       "      <th>Prey hydrophobic</th>\n",
       "      <th>Bait Weight</th>\n",
       "    </tr>\n",
       "  </thead>\n",
       "  <tbody>\n",
       "    <tr>\n",
       "      <th>0</th>\n",
       "      <td>ZIKVfp Capsid</td>\n",
       "      <td>Q9UGR2</td>\n",
       "      <td>MKNPKKKSGGFRIVNMLKRGVARVSPFGGLKRLPAGLLLGHGPIRM...</td>\n",
       "      <td>MERQKRKADIEKGLQFIQSTLPLKQEEYEAFLLKLVQNLFAEGNDL...</td>\n",
       "      <td>1</td>\n",
       "      <td>114.0</td>\n",
       "      <td>142</td>\n",
       "      <td>36</td>\n",
       "      <td>19</td>\n",
       "      <td>8</td>\n",
       "      <td>78</td>\n",
       "      <td>256</td>\n",
       "      <td>283</td>\n",
       "      <td>35</td>\n",
       "      <td>403</td>\n",
       "      <td>15217.47</td>\n",
       "    </tr>\n",
       "    <tr>\n",
       "      <th>1</th>\n",
       "      <td>ZIKVfp Capsid</td>\n",
       "      <td>O60524</td>\n",
       "      <td>MKNPKKKSGGFRIVNMLKRGVARVSPFGGLKRLPAGLLLGHGPIRM...</td>\n",
       "      <td>MKSRFSTIDLRAVLAELNASLLGMRVNNVYDVDNKTYLIRLQKPDF...</td>\n",
       "      <td>1</td>\n",
       "      <td>118.0</td>\n",
       "      <td>142</td>\n",
       "      <td>36</td>\n",
       "      <td>19</td>\n",
       "      <td>8</td>\n",
       "      <td>78</td>\n",
       "      <td>352</td>\n",
       "      <td>288</td>\n",
       "      <td>31</td>\n",
       "      <td>405</td>\n",
       "      <td>15217.47</td>\n",
       "    </tr>\n",
       "  </tbody>\n",
       "</table>\n",
       "</div>"
      ],
      "text/plain": [
       "            Bait    Prey                                      Bait Sequence  \\\n",
       "0  ZIKVfp Capsid  Q9UGR2  MKNPKKKSGGFRIVNMLKRGVARVSPFGGLKRLPAGLLLGHGPIRM...   \n",
       "1  ZIKVfp Capsid  O60524  MKNPKKKSGGFRIVNMLKRGVARVSPFGGLKRLPAGLLLGHGPIRM...   \n",
       "\n",
       "                                       Prey Sequence  y_true  Score  \\\n",
       "0  MERQKRKADIEKGLQFIQSTLPLKQEEYEAFLLKLVQNLFAEGNDL...       1  114.0   \n",
       "1  MKSRFSTIDLRAVLAELNASLLGMRVNNVYDVDNKTYLIRLQKPDF...       1  118.0   \n",
       "\n",
       "   Bait Length  Bait charged  Bait polar  Bait amphiatic  Bait hydrophobic  \\\n",
       "0          142            36          19               8                78   \n",
       "1          142            36          19               8                78   \n",
       "\n",
       "   Prey charged  Prey polar  Prey amphiatic  Prey hydrophobic  Bait Weight  \n",
       "0           256         283              35               403     15217.47  \n",
       "1           352         288              31               405     15217.47  "
      ]
     },
     "execution_count": 22,
     "metadata": {},
     "output_type": "execute_result"
    }
   ],
   "source": [
    "all_data.head(2)"
   ]
  },
  {
   "cell_type": "code",
   "execution_count": 23,
   "metadata": {},
   "outputs": [
    {
     "data": {
      "text/plain": [
       "<matplotlib.axes._subplots.AxesSubplot at 0x7fe973a6fac0>"
      ]
     },
     "execution_count": 23,
     "metadata": {},
     "output_type": "execute_result"
    },
    {
     "data": {
      "image/png": "[encoded data removed]",
      "text/plain": [
       "<Figure size 720x720 with 1 Axes>"
      ]
     },
     "metadata": {
      "needs_background": "light"
     },
     "output_type": "display_data"
    }
   ],
   "source": [
    "fig,ax = plt.subplots(figsize=(10,10))\n",
    "sns.scatterplot(x='1', y='2', hue='y_true', data=x_pca)"
   ]
  },
  {
   "cell_type": "markdown",
   "metadata": {},
   "source": [
    "## Splitting the data\n",
    "20% of all the interacting bait-prey pairs and 20% of the non-interacting bait-prey pairs are randomly selected to form the training set for the model."
   ]
  },
  {
   "cell_type": "code",
   "execution_count": 24,
   "metadata": {},
   "outputs": [],
   "source": [
    "y_true = all_data.iloc[:, 4]\n",
    "X_train, X_test, y_train, y_test = train_test_split(all_data, y_true , stratify=y_true, test_size=0.2,random_state=5)"
   ]
  },
  {
   "cell_type": "code",
   "execution_count": 25,
   "metadata": {},
   "outputs": [
    {
     "data": {
      "text/html": [
       "<div>\n",
       "<style scoped>\n",
       "    .dataframe tbody tr th:only-of-type {\n",
       "        vertical-align: middle;\n",
       "    }\n",
       "\n",
       "    .dataframe tbody tr th {\n",
       "        vertical-align: top;\n",
       "    }\n",
       "\n",
       "    .dataframe thead th {\n",
       "        text-align: right;\n",
       "    }\n",
       "</style>\n",
       "<table border=\"1\" class=\"dataframe\">\n",
       "  <thead>\n",
       "    <tr style=\"text-align: right;\">\n",
       "      <th></th>\n",
       "      <th>Bait</th>\n",
       "      <th>Prey</th>\n",
       "      <th>Bait Sequence</th>\n",
       "      <th>Prey Sequence</th>\n",
       "      <th>y_true</th>\n",
       "      <th>Score</th>\n",
       "      <th>Bait Length</th>\n",
       "      <th>Bait charged</th>\n",
       "      <th>Bait polar</th>\n",
       "      <th>Bait amphiatic</th>\n",
       "      <th>Bait hydrophobic</th>\n",
       "      <th>Prey charged</th>\n",
       "      <th>Prey polar</th>\n",
       "      <th>Prey amphiatic</th>\n",
       "      <th>Prey hydrophobic</th>\n",
       "      <th>Bait Weight</th>\n",
       "    </tr>\n",
       "  </thead>\n",
       "  <tbody>\n",
       "    <tr>\n",
       "      <th>1283</th>\n",
       "      <td>ZIKVfp NS5</td>\n",
       "      <td>Q0P6H9</td>\n",
       "      <td>MGGGTGETLGEKWKARLNQMSALEFYSYKKSGITEVCREEARRALK...</td>\n",
       "      <td>MAAVLALRVVAGLAAAALVAMLLEHYGLAGQPSPLPRPAPPRRPHP...</td>\n",
       "      <td>0</td>\n",
       "      <td>272.0</td>\n",
       "      <td>942</td>\n",
       "      <td>248</td>\n",
       "      <td>242</td>\n",
       "      <td>67</td>\n",
       "      <td>384</td>\n",
       "      <td>103</td>\n",
       "      <td>193</td>\n",
       "      <td>24</td>\n",
       "      <td>323</td>\n",
       "      <td>106577.33</td>\n",
       "    </tr>\n",
       "    <tr>\n",
       "      <th>1143</th>\n",
       "      <td>ZIKVfp NS4A</td>\n",
       "      <td>Q66K41</td>\n",
       "      <td>MGAAFGVMEALGTLPGHMTERFQEAIDNLAVLMRAETGSRPYKAAA...</td>\n",
       "      <td>MLLGPASGAPSPLLASLPLPTRPLQPPLDFKHLLAFHFNGAAPLSL...</td>\n",
       "      <td>0</td>\n",
       "      <td>81.0</td>\n",
       "      <td>166</td>\n",
       "      <td>26</td>\n",
       "      <td>28</td>\n",
       "      <td>13</td>\n",
       "      <td>98</td>\n",
       "      <td>69</td>\n",
       "      <td>121</td>\n",
       "      <td>7</td>\n",
       "      <td>225</td>\n",
       "      <td>17429.01</td>\n",
       "    </tr>\n",
       "  </tbody>\n",
       "</table>\n",
       "</div>"
      ],
      "text/plain": [
       "             Bait    Prey                                      Bait Sequence  \\\n",
       "1283   ZIKVfp NS5  Q0P6H9  MGGGTGETLGEKWKARLNQMSALEFYSYKKSGITEVCREEARRALK...   \n",
       "1143  ZIKVfp NS4A  Q66K41  MGAAFGVMEALGTLPGHMTERFQEAIDNLAVLMRAETGSRPYKAAA...   \n",
       "\n",
       "                                          Prey Sequence  y_true  Score  \\\n",
       "1283  MAAVLALRVVAGLAAAALVAMLLEHYGLAGQPSPLPRPAPPRRPHP...       0  272.0   \n",
       "1143  MLLGPASGAPSPLLASLPLPTRPLQPPLDFKHLLAFHFNGAAPLSL...       0   81.0   \n",
       "\n",
       "      Bait Length  Bait charged  Bait polar  Bait amphiatic  Bait hydrophobic  \\\n",
       "1283          942           248         242              67               384   \n",
       "1143          166            26          28              13                98   \n",
       "\n",
       "      Prey charged  Prey polar  Prey amphiatic  Prey hydrophobic  Bait Weight  \n",
       "1283           103         193              24               323    106577.33  \n",
       "1143            69         121               7               225     17429.01  "
      ]
     },
     "execution_count": 25,
     "metadata": {},
     "output_type": "execute_result"
    }
   ],
   "source": [
    "X_train.head(2)"
   ]
  },
  {
   "cell_type": "markdown",
   "metadata": {},
   "source": [
    "## The classifier\n",
    "A support vector machine is created and fitted with our training data set. It is then tested using the training data set and is able to predict Zika-human protein interations with the displayed accuracy."
   ]
  },
  {
   "cell_type": "code",
   "execution_count": 26,
   "metadata": {},
   "outputs": [
    {
     "data": {
      "text/plain": [
       "0.7529691211401425"
      ]
     },
     "execution_count": 26,
     "metadata": {},
     "output_type": "execute_result"
    }
   ],
   "source": [
    "clf = svm.SVC(kernel='linear', random_state=20)\n",
    "clf = clf.fit(X_train.iloc[:, 5:], y_train)\n",
    "accuracy = clf.score(X_test.iloc[:, 5:], y_test)\n",
    "accuracy"
   ]
  },
  {
   "cell_type": "markdown",
   "metadata": {},
   "source": [
    "The confusion matrix for the first support vector machine"
   ]
  },
  {
   "cell_type": "code",
   "execution_count": 28,
   "metadata": {},
   "outputs": [
    {
     "data": {
      "image/png": "[encoded data removed]",
      "text/plain": [
       "<Figure size 432x288 with 2 Axes>"
      ]
     },
     "metadata": {
      "needs_background": "light"
     },
     "output_type": "display_data"
    }
   ],
   "source": [
    "matrix = plot_confusion_matrix(clf, X_test.iloc[:, 5:], y_test, cmap=plt.cm.Blues,normalize='true')\n",
    "plt.title('Zika Confusion matrix')\n",
    "plt.show(matrix)\n",
    "plt.show()"
   ]
  },
  {
   "cell_type": "markdown",
   "metadata": {},
   "source": [
    "## Testing the model on SARS-CoV2 \n",
    "A new support vector machine classifier was fitted with the virus-protein interaction data frame and tested by prdeicting with SARS-CoV2 proteins will interact with which human proteins."
   ]
  },
  {
   "cell_type": "code",
   "execution_count": 29,
   "metadata": {
    "scrolled": true
   },
   "outputs": [
    {
     "data": {
      "text/html": [
       "<div>\n",
       "<style scoped>\n",
       "    .dataframe tbody tr th:only-of-type {\n",
       "        vertical-align: middle;\n",
       "    }\n",
       "\n",
       "    .dataframe tbody tr th {\n",
       "        vertical-align: top;\n",
       "    }\n",
       "\n",
       "    .dataframe thead th {\n",
       "        text-align: right;\n",
       "    }\n",
       "</style>\n",
       "<table border=\"1\" class=\"dataframe\">\n",
       "  <thead>\n",
       "    <tr style=\"text-align: right;\">\n",
       "      <th></th>\n",
       "      <th>Bait</th>\n",
       "      <th>Prey</th>\n",
       "      <th>Bait Sequence</th>\n",
       "      <th>Prey Sequence</th>\n",
       "      <th>Score</th>\n",
       "      <th>Bait_Weight</th>\n",
       "      <th>Bait_Length</th>\n",
       "      <th>Bait_charged</th>\n",
       "      <th>Bait_polar</th>\n",
       "      <th>Bait_amphipathic</th>\n",
       "      <th>Bait_hydrophobic</th>\n",
       "      <th>Prey_charged</th>\n",
       "      <th>Prey_polar</th>\n",
       "      <th>Prey_amphipathic</th>\n",
       "      <th>Prey_hydrophobic</th>\n",
       "      <th>Bait-Prey</th>\n",
       "      <th>y_true</th>\n",
       "    </tr>\n",
       "  </thead>\n",
       "  <tbody>\n",
       "    <tr>\n",
       "      <th>0</th>\n",
       "      <td>orf9c</td>\n",
       "      <td>A0A024R1R8</td>\n",
       "      <td>LQSCYNFLKEQHCQKASTQKGAEAAVKPLLVPHHVVATVQEIQLQA...</td>\n",
       "      <td>MSSHEGGKKKALKQPKKQAKEMDEEEKAFKQKQKEEQKKLEVLKAK...</td>\n",
       "      <td>20.0</td>\n",
       "      <td>7918.3892</td>\n",
       "      <td>72</td>\n",
       "      <td>10</td>\n",
       "      <td>22</td>\n",
       "      <td>4</td>\n",
       "      <td>39</td>\n",
       "      <td>29</td>\n",
       "      <td>10</td>\n",
       "      <td>2</td>\n",
       "      <td>25</td>\n",
       "      <td>orf9c-A0A024R1R8</td>\n",
       "      <td>0</td>\n",
       "    </tr>\n",
       "    <tr>\n",
       "      <th>1</th>\n",
       "      <td>orf9c</td>\n",
       "      <td>A0A024RBG1</td>\n",
       "      <td>LQSCYNFLKEQHCQKASTQKGAEAAVKPLLVPHHVVATVQEIQLQA...</td>\n",
       "      <td>MMKFKPNQTRTYDREGFKKRAACLCFRSEQEDEVLLVSSSRYPDQW...</td>\n",
       "      <td>37.0</td>\n",
       "      <td>7918.3892</td>\n",
       "      <td>72</td>\n",
       "      <td>10</td>\n",
       "      <td>22</td>\n",
       "      <td>4</td>\n",
       "      <td>39</td>\n",
       "      <td>52</td>\n",
       "      <td>46</td>\n",
       "      <td>12</td>\n",
       "      <td>80</td>\n",
       "      <td>orf9c-A0A024RBG1</td>\n",
       "      <td>0</td>\n",
       "    </tr>\n",
       "  </tbody>\n",
       "</table>\n",
       "</div>"
      ],
      "text/plain": [
       "    Bait        Prey                                      Bait Sequence  \\\n",
       "0  orf9c  A0A024R1R8  LQSCYNFLKEQHCQKASTQKGAEAAVKPLLVPHHVVATVQEIQLQA...   \n",
       "1  orf9c  A0A024RBG1  LQSCYNFLKEQHCQKASTQKGAEAAVKPLLVPHHVVATVQEIQLQA...   \n",
       "\n",
       "                                       Prey Sequence  Score  Bait_Weight  \\\n",
       "0  MSSHEGGKKKALKQPKKQAKEMDEEEKAFKQKQKEEQKKLEVLKAK...   20.0    7918.3892   \n",
       "1  MMKFKPNQTRTYDREGFKKRAACLCFRSEQEDEVLLVSSSRYPDQW...   37.0    7918.3892   \n",
       "\n",
       "   Bait_Length  Bait_charged  Bait_polar  Bait_amphipathic  Bait_hydrophobic  \\\n",
       "0           72            10          22                 4                39   \n",
       "1           72            10          22                 4                39   \n",
       "\n",
       "   Prey_charged  Prey_polar  Prey_amphipathic  Prey_hydrophobic  \\\n",
       "0            29          10                 2                25   \n",
       "1            52          46                12                80   \n",
       "\n",
       "          Bait-Prey  y_true  \n",
       "0  orf9c-A0A024R1R8       0  \n",
       "1  orf9c-A0A024RBG1       0  "
      ]
     },
     "execution_count": 29,
     "metadata": {},
     "output_type": "execute_result"
    }
   ],
   "source": [
    "sars_df = pd.read_csv(\"/Users/amibaid/Downloads/ppi_project/sars_test_df .txt\", sep = '\\t')\n",
    "sars_df.head(2)"
   ]
  },
  {
   "cell_type": "code",
   "execution_count": 30,
   "metadata": {
    "scrolled": true
   },
   "outputs": [
    {
     "data": {
      "text/html": [
       "<div>\n",
       "<style scoped>\n",
       "    .dataframe tbody tr th:only-of-type {\n",
       "        vertical-align: middle;\n",
       "    }\n",
       "\n",
       "    .dataframe tbody tr th {\n",
       "        vertical-align: top;\n",
       "    }\n",
       "\n",
       "    .dataframe thead th {\n",
       "        text-align: right;\n",
       "    }\n",
       "</style>\n",
       "<table border=\"1\" class=\"dataframe\">\n",
       "  <thead>\n",
       "    <tr style=\"text-align: right;\">\n",
       "      <th></th>\n",
       "      <th>Bait</th>\n",
       "      <th>Prey</th>\n",
       "      <th>Bait Sequence</th>\n",
       "      <th>Prey Sequence</th>\n",
       "      <th>y_true</th>\n",
       "      <th>Score</th>\n",
       "      <th>Bait Length</th>\n",
       "      <th>Bait charged</th>\n",
       "      <th>Bait polar</th>\n",
       "      <th>Bait amphiatic</th>\n",
       "      <th>Bait hydrophobic</th>\n",
       "      <th>Prey charged</th>\n",
       "      <th>Prey polar</th>\n",
       "      <th>Prey amphiatic</th>\n",
       "      <th>Prey hydrophobic</th>\n",
       "      <th>Bait Weight</th>\n",
       "    </tr>\n",
       "  </thead>\n",
       "  <tbody>\n",
       "    <tr>\n",
       "      <th>0</th>\n",
       "      <td>ZIKVfp Capsid</td>\n",
       "      <td>Q9UGR2</td>\n",
       "      <td>MKNPKKKSGGFRIVNMLKRGVARVSPFGGLKRLPAGLLLGHGPIRM...</td>\n",
       "      <td>MERQKRKADIEKGLQFIQSTLPLKQEEYEAFLLKLVQNLFAEGNDL...</td>\n",
       "      <td>1</td>\n",
       "      <td>114.0</td>\n",
       "      <td>142</td>\n",
       "      <td>36</td>\n",
       "      <td>19</td>\n",
       "      <td>8</td>\n",
       "      <td>78</td>\n",
       "      <td>256</td>\n",
       "      <td>283</td>\n",
       "      <td>35</td>\n",
       "      <td>403</td>\n",
       "      <td>15217.47</td>\n",
       "    </tr>\n",
       "    <tr>\n",
       "      <th>1</th>\n",
       "      <td>ZIKVfp Capsid</td>\n",
       "      <td>O60524</td>\n",
       "      <td>MKNPKKKSGGFRIVNMLKRGVARVSPFGGLKRLPAGLLLGHGPIRM...</td>\n",
       "      <td>MKSRFSTIDLRAVLAELNASLLGMRVNNVYDVDNKTYLIRLQKPDF...</td>\n",
       "      <td>1</td>\n",
       "      <td>118.0</td>\n",
       "      <td>142</td>\n",
       "      <td>36</td>\n",
       "      <td>19</td>\n",
       "      <td>8</td>\n",
       "      <td>78</td>\n",
       "      <td>352</td>\n",
       "      <td>288</td>\n",
       "      <td>31</td>\n",
       "      <td>405</td>\n",
       "      <td>15217.47</td>\n",
       "    </tr>\n",
       "  </tbody>\n",
       "</table>\n",
       "</div>"
      ],
      "text/plain": [
       "            Bait    Prey                                      Bait Sequence  \\\n",
       "0  ZIKVfp Capsid  Q9UGR2  MKNPKKKSGGFRIVNMLKRGVARVSPFGGLKRLPAGLLLGHGPIRM...   \n",
       "1  ZIKVfp Capsid  O60524  MKNPKKKSGGFRIVNMLKRGVARVSPFGGLKRLPAGLLLGHGPIRM...   \n",
       "\n",
       "                                       Prey Sequence  y_true  Score  \\\n",
       "0  MERQKRKADIEKGLQFIQSTLPLKQEEYEAFLLKLVQNLFAEGNDL...       1  114.0   \n",
       "1  MKSRFSTIDLRAVLAELNASLLGMRVNNVYDVDNKTYLIRLQKPDF...       1  118.0   \n",
       "\n",
       "   Bait Length  Bait charged  Bait polar  Bait amphiatic  Bait hydrophobic  \\\n",
       "0          142            36          19               8                78   \n",
       "1          142            36          19               8                78   \n",
       "\n",
       "   Prey charged  Prey polar  Prey amphiatic  Prey hydrophobic  Bait Weight  \n",
       "0           256         283              35               403     15217.47  \n",
       "1           352         288              31               405     15217.47  "
      ]
     },
     "execution_count": 30,
     "metadata": {},
     "output_type": "execute_result"
    }
   ],
   "source": [
    "all_data.head(2)"
   ]
  },
  {
   "cell_type": "code",
   "execution_count": 31,
   "metadata": {},
   "outputs": [
    {
     "data": {
      "text/plain": [
       "0.9768623114560974"
      ]
     },
     "execution_count": 31,
     "metadata": {},
     "output_type": "execute_result"
    }
   ],
   "source": [
    "clf2 = svm.SVC(kernel='linear', random_state=20)\n",
    "clf2 = clf.fit(all_data.iloc[:, 5:], all_data['y_true'])\n",
    "accuracy2 = clf.score(sars_df.iloc[:, 4:15], sars_df['y_true'])\n",
    "accuracy2"
   ]
  },
  {
   "cell_type": "markdown",
   "metadata": {},
   "source": [
    "The confusion matrix for the second support vector machine"
   ]
  },
  {
   "cell_type": "code",
   "execution_count": 33,
   "metadata": {
    "scrolled": false
   },
   "outputs": [
    {
     "data": {
      "image/png": "[encoded data removed]",
      "text/plain": [
       "<Figure size 432x288 with 2 Axes>"
      ]
     },
     "metadata": {
      "needs_background": "light"
     },
     "output_type": "display_data"
    }
   ],
   "source": [
    "matrix = plot_confusion_matrix(clf, sars_df.iloc[:, 4:15], sars_df['y_true'], cmap=plt.cm.Blues,normalize='true')\n",
    "plt.title('SARS-Cov2 Confusion matrix')\n",
    "plt.show(matrix)\n",
    "plt.show()"
   ]
  },
  {
   "cell_type": "markdown",
   "metadata": {},
   "source": [
    "## Conclusion\n",
    "When used to try and predict interactions between SARS-CoV2 proteins and human proteins, the model did not perform well. Further analysis is needed to draw conclusions about which features were useful, if any, and what feautures need to be added in the future to increase the accuacy of the model."
   ]
  },
  {
   "cell_type": "code",
   "execution_count": null,
   "metadata": {},
   "outputs": [],
   "source": []
  }
 ],
 "metadata": {
  "kernelspec": {
   "display_name": "Python 3",
   "language": "python",
   "name": "python3"
  },
  "language_info": {
   "codemirror_mode": {
    "name": "ipython",
    "version": 3
   },
   "file_extension": ".py",
   "mimetype": "text/x-python",
   "name": "python",
   "nbconvert_exporter": "python",
   "pygments_lexer": "ipython3",
   "version": "3.8.3"
  }
 },
 "nbformat": 4,
 "nbformat_minor": 4
}
